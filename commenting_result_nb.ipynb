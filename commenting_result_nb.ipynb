{
 "cells": [
  {
   "metadata": {},
   "cell_type": "markdown",
   "source": "# ECE analysis",
   "id": "d88f930be61e37fb"
  },
  {
   "cell_type": "code",
   "id": "initial_id",
   "metadata": {
    "collapsed": true,
    "ExecuteTime": {
     "end_time": "2024-05-22T13:31:31.966012Z",
     "start_time": "2024-05-22T13:31:31.961061Z"
    }
   },
   "source": [
    "import utils.utils as utils\n",
    "\n",
    "from utils.constants import CIFAR10_DICT_MODELS_TO_ID, IMAGENET_DICT_MODELS_TO_ID\n",
    "\n",
    "import plot_results as ps"
   ],
   "outputs": [],
   "execution_count": 60
  },
  {
   "metadata": {
    "ExecuteTime": {
     "end_time": "2024-05-22T13:31:32.517520Z",
     "start_time": "2024-05-22T13:31:32.513529Z"
    }
   },
   "cell_type": "code",
   "source": "",
   "id": "bd34c67376136534",
   "outputs": [],
   "execution_count": 60
  },
  {
   "metadata": {
    "ExecuteTime": {
     "end_time": "2024-05-22T13:31:32.600097Z",
     "start_time": "2024-05-22T13:31:32.587576Z"
    }
   },
   "cell_type": "code",
   "source": [
    "robustness_level = \"robust\"\n",
    "ds_name = \"cifar10\"\n",
    "\n",
    "ece_save_path = \"figures/calibration_hist/\"\n",
    "ece_dict_name = f\"calibration_curve_{robustness_level}_{ds_name}\"\n",
    "ece_dict = utils.my_load(f\"{ece_save_path}{ece_dict_name}.pkl\")"
   ],
   "id": "4b2828dc9df50adb",
   "outputs": [],
   "execution_count": 61
  },
  {
   "metadata": {
    "ExecuteTime": {
     "end_time": "2024-05-22T13:31:32.726473Z",
     "start_time": "2024-05-22T13:31:32.715361Z"
    }
   },
   "cell_type": "code",
   "source": [
    "entropy_save_path = \"figures/violin_plots/\"\n",
    "entropy_dict_name = f\"violinplots_{robustness_level}_{ds_name}\"\n",
    "entropy_dict = utils.my_load(f\"{entropy_save_path}{entropy_dict_name}.pkl\")"
   ],
   "id": "229d81293a7bfbb3",
   "outputs": [],
   "execution_count": 62
  },
  {
   "metadata": {
    "ExecuteTime": {
     "end_time": "2024-05-22T13:31:32.793503Z",
     "start_time": "2024-05-22T13:31:32.789117Z"
    }
   },
   "cell_type": "code",
   "source": "dict_to_model = CIFAR10_DICT_MODELS_TO_ID if ds_name == \"cifar10\" else IMAGENET_DICT_MODELS_TO_ID",
   "id": "4d08ea162e94d8a4",
   "outputs": [],
   "execution_count": 63
  },
  {
   "metadata": {
    "ExecuteTime": {
     "end_time": "2024-05-22T13:31:32.926057Z",
     "start_time": "2024-05-22T13:31:32.921416Z"
    }
   },
   "cell_type": "code",
   "source": [
    "# print(\"ECE\")\n",
    "# for idx, val in ece_dict.items():\n",
    "#     print(CIFAR10_DICT_MODELS_TO_ID[idx], end=\" \")\n",
    "#     for idx, val in val.items():\n",
    "#         print(f\"& {val:.3f}\", end=\" \")\n",
    "#         \n",
    "#     print(\"\\\\\\\\\")"
   ],
   "id": "ddd508f026bfbb41",
   "outputs": [],
   "execution_count": 64
  },
  {
   "metadata": {
    "ExecuteTime": {
     "end_time": "2024-05-22T13:31:33.129688Z",
     "start_time": "2024-05-22T13:31:33.123321Z"
    }
   },
   "cell_type": "code",
   "source": [
    "atk_type = \"under_ece\"\n",
    "attack_ece = {k: v[atk_type] for k, v in ece_dict.items()}\n",
    "sort_attack = dict(sorted(attack_ece.items(), key=lambda item: item[1]))\n",
    "\n",
    "# print(atk_type)\n",
    "# counter = 0\n",
    "# for idx, item in sort_attack.items():\n",
    "#     print(f\"{idx} --> {item}\")\n",
    "#     counter += item\n",
    "#     \n",
    "# print(counter/len(sort_attack))"
   ],
   "id": "9f847a139b782ae7",
   "outputs": [],
   "execution_count": 65
  },
  {
   "metadata": {
    "ExecuteTime": {
     "end_time": "2024-05-22T13:31:33.229120Z",
     "start_time": "2024-05-22T13:31:33.223447Z"
    }
   },
   "cell_type": "code",
   "source": [
    "atk_type = \"over_ece\"\n",
    "attack_ece = {k: v[atk_type] for k, v in ece_dict.items()}\n",
    "sort_attack = dict(sorted(attack_ece.items(), key=lambda item: item[1]))\n",
    "\n",
    "# print(atk_type)\n",
    "# counter = 0\n",
    "# for idx, item in sort_attack.items():\n",
    "#     print(f\"{idx} --> {item}\")\n",
    "#     counter += item\n",
    "#     \n",
    "# print(counter/len(sort_attack))"
   ],
   "id": "2f56ee3f49728130",
   "outputs": [],
   "execution_count": 66
  },
  {
   "metadata": {
    "ExecuteTime": {
     "end_time": "2024-05-22T13:31:33.338218Z",
     "start_time": "2024-05-22T13:31:33.331088Z"
    }
   },
   "cell_type": "code",
   "source": [
    "# ECE MAX DIFFERENCE Uatk and Oatk\n",
    "difference_ece_dict = {k: abs(v[\"under_ece\"]-v[\"clean_ece\"]) + abs(v[\"clean_ece\"]-v[\"over_ece\"]) for k, v in ece_dict.items()}\n",
    "sort_difference = dict(sorted(difference_ece_dict.items(), key=lambda item: item[1]))\n",
    "\n",
    "# print(\"ECE delta\")\n",
    "# \n",
    "# for idx, item in sort_difference.items():\n",
    "#     print(f\"{idx} --> {item}\")"
   ],
   "id": "cb3fb6c203e0edaf",
   "outputs": [],
   "execution_count": 67
  },
  {
   "metadata": {},
   "cell_type": "markdown",
   "source": [
    "### ECE table all metrics (Clean - Over - Umder)\n",
    "\n",
    "Per formattare bene i numeri\n",
    "$\\displaystyle 0.222\\genfrac{}{}{-.4pt}{}{+0.052}{-0.095}$"
   ],
   "id": "3fdb0e5319a31e28"
  },
  {
   "metadata": {
    "ExecuteTime": {
     "end_time": "2024-05-22T13:31:33.436335Z",
     "start_time": "2024-05-22T13:31:33.431005Z"
    }
   },
   "cell_type": "code",
   "source": [
    "clean_ece = {k: v[\"clean_ece\"] for k, v in ece_dict.items()}\n",
    "under_ece = {k: v[\"under_ece\"] for k, v in ece_dict.items()}\n",
    "over_ece = {k: v[\"over_ece\"] for k, v in ece_dict.items()}"
   ],
   "id": "9798589531d3faf1",
   "outputs": [],
   "execution_count": 68
  },
  {
   "metadata": {
    "ExecuteTime": {
     "end_time": "2024-05-22T13:31:33.610275Z",
     "start_time": "2024-05-22T13:31:33.604065Z"
    }
   },
   "cell_type": "code",
   "source": [
    "clean_entropy = {k: v[\"clean\"] for k, v in entropy_dict.items()}\n",
    "under_entropy = {k: v[\"uatk\"] for k, v in entropy_dict.items()}\n",
    "over_entropy = {k: v[\"oatk\"] for k, v in entropy_dict.items()}"
   ],
   "id": "9102ec6343139988",
   "outputs": [],
   "execution_count": 69
  },
  {
   "metadata": {
    "ExecuteTime": {
     "end_time": "2024-05-22T13:31:33.752022Z",
     "start_time": "2024-05-22T13:31:33.747710Z"
    }
   },
   "cell_type": "code",
   "source": [
    "# Displacement\n",
    "# for idx, item in clean_ece.items():\n",
    "#     print(f\"{CIFAR10_DICT_MODELS_TO_ID[idx]} --> clean: {item:.3f} under: +{(under_ece[idx]-item):.3f} over: -{(item - over_ece[idx]):.3f}\")"
   ],
   "id": "51c18f0d1c76ec76",
   "outputs": [],
   "execution_count": 70
  },
  {
   "metadata": {
    "ExecuteTime": {
     "end_time": "2024-05-22T13:31:33.832413Z",
     "start_time": "2024-05-22T13:31:33.828051Z"
    }
   },
   "cell_type": "code",
   "source": [
    "# Upper - lower - Delta\n",
    "# for idx, item in clean_ece.items():\n",
    "#     print(f\"{CIFAR10_DICT_MODELS_TO_ID[idx]} --> clean: {item:.3f} under: {(under_ece[idx]):.3f} over: {(over_ece[idx]):.3f} diff: {(under_ece[idx] - over_ece[idx]):.3f}\")"
   ],
   "id": "5aabf60f2914ccf7",
   "outputs": [],
   "execution_count": 71
  },
  {
   "metadata": {
    "ExecuteTime": {
     "end_time": "2024-05-22T13:31:33.934614Z",
     "start_time": "2024-05-22T13:31:33.929839Z"
    }
   },
   "cell_type": "code",
   "source": [
    "# # Print table single column\n",
    "# print(\"\"\"\n",
    "# \\\\bgroup\n",
    "# \\def\\\\arraystretch{1.7}\n",
    "# \\\\begin{table}[]\n",
    "# \\\\resizebox{\\\\textwidth}{!}{\n",
    "# \\\\begin{tabular}{lllll}\n",
    "# & \\multicolumn{1}{c}{ECE} & \\multicolumn{1}{c}{ECE Delta} & \\multicolumn{1}{c}{Entropy} & \\multicolumn{1}{c}{Entropy Delta} \\\\\\\\\"\"\")\n",
    "# \n",
    "# for idx, item in clean_ece.items():\n",
    "#     clean_ece_value = item.round(3)\n",
    "#     under_ece_value = f\"+{(under_ece[idx] - item):.3f}\" # under_ece_value = f\"+{under_ece[idx]}\"\n",
    "#     over_ece_value = f\"-{(item - over_ece[idx]):.3f}\"   # over_ece_value = f\"-{over_ece[idx]}\"\n",
    "#     \n",
    "#     ece_equation = f\"$\\displaystyle {clean_ece_value}\\genfrac{{}}{{}}{{-.4pt}}{{}}{{{under_ece_value}}}{{{over_ece_value}}}$\"\n",
    "#     ece_diff = f\"{(under_ece[idx] - over_ece[idx]):.3f}\"\n",
    "#     entropy_equation = \"\"\n",
    "#     entropy_diff = \"\"\n",
    "#     print(f\"{dict_to_model[idx]} & {ece_equation} & ${ece_diff}$ & entropy & diff \\\\\\\\\")\n",
    "#     \n",
    "# print(\"\"\"\\end{tabular}}\n",
    "# \\caption{}\n",
    "# \\label{}\n",
    "# \\end{table}\n",
    "# \\egroup\"\"\")"
   ],
   "id": "5b20c630c082308b",
   "outputs": [],
   "execution_count": 72
  },
  {
   "metadata": {
    "ExecuteTime": {
     "end_time": "2024-05-22T13:31:34.067145Z",
     "start_time": "2024-05-22T13:31:34.056281Z"
    }
   },
   "cell_type": "code",
   "source": [
    "# Print table two columns\n",
    "print(\"\"\"\n",
    "\\\\bgroup\n",
    "\\def\\\\arraystretch{1.7}\n",
    "\\\\begin{table}[]\n",
    "\\\\resizebox{\\\\textwidth}{!}{%\n",
    "\\\\begin{tabular}{llllllllll}\n",
    "   & \\multicolumn{1}{c}{ECE} & \\multicolumn{1}{c}{Delta} & \\multicolumn{1}{c}{Entropy} & \\multicolumn{1}{c}{Delta} &    & \\multicolumn{1}{c}{ECE} & \\multicolumn{1}{c}{Delta} & \\multicolumn{1}{c}{Entropy} & \\multicolumn{1}{c}{Delta} \\\\\\\\\"\"\")\n",
    "\n",
    "for n, (idx, item) in enumerate(clean_ece.items()):\n",
    "    # ECE\n",
    "    clean_ece_value = item.round(3)\n",
    "    under_ece_value = f\"+{(under_ece[idx] - item):.3f}\" # under_ece_value = f\"+{under_ece[idx]}\"\n",
    "    over_ece_value = f\"-{(item - over_ece[idx]):.3f}\"   # over_ece_value = f\"-{over_ece[idx]}\"\n",
    "    ece_equation = f\"$\\displaystyle {clean_ece_value}\\genfrac{{}}{{}}{{-.4pt}}{{}}{{{under_ece_value}}}{{{over_ece_value}}}$\"\n",
    "    ece_diff = f\"{(under_ece[idx] - over_ece[idx]):.3f}\"\n",
    "    \n",
    "    # ENTROPY\n",
    "    clean_entropy_value = round(clean_entropy[idx],3)\n",
    "    under_entropy_value = f\"+{(under_entropy[idx] - clean_entropy_value):.3f}\" # under_entropy_value = f\"+{under_entropy[idx]}\"\n",
    "    over_entropy_value = f\"-{(clean_entropy_value - over_entropy[idx]):.3f}\"   # over_entropy_value = f\"-{over_entropy[idx]}\"\n",
    "    entropy_equation = f\"$\\displaystyle {clean_entropy_value}\\genfrac{{}}{{}}{{-.4pt}}{{}}{{{under_entropy_value}}}{{{over_entropy_value}}}$\"\n",
    "    entropy_diff = f\"{(under_entropy[idx] - over_entropy[idx]):.3f}\"\n",
    "    \n",
    "    print(f\"{dict_to_model[idx]} & {ece_equation} & ${ece_diff}$ & {entropy_equation} & {entropy_diff}\", end=\" & \" if (n+1)%2 != 0 else \" \\\\\\\\ \\n\")\n",
    "    \n",
    "print(\"\"\"\n",
    "\\end{tabular}}\n",
    "\\caption{}\n",
    "\\label{}\n",
    "\\end{table}\n",
    "\\egroup\n",
    "\"\"\")"
   ],
   "id": "c812c4f8b3fc7daf",
   "outputs": [
    {
     "name": "stdout",
     "output_type": "stream",
     "text": [
      "\n",
      "\\bgroup\n",
      "\\def\\arraystretch{1.7}\n",
      "\\begin{table}[]\n",
      "\\resizebox{\\textwidth}{!}{%\n",
      "\\begin{tabular}{llllllllll}\n",
      "   & \\multicolumn{1}{c}{ECE} & \\multicolumn{1}{c}{Delta} & \\multicolumn{1}{c}{Entropy} & \\multicolumn{1}{c}{Delta} &    & \\multicolumn{1}{c}{ECE} & \\multicolumn{1}{c}{Delta} & \\multicolumn{1}{c}{Entropy} & \\multicolumn{1}{c}{Delta} \\\\\n",
      "\\addepallieffID & $\\displaystyle 0.387\\genfrac{}{}{-.4pt}{}{+0.052}{-0.095}$ & $0.146$ & $\\displaystyle 1.625\\genfrac{}{}{-.4pt}{}{+0.180}{-0.155}$ & 0.335 & \\addepallitowID & $\\displaystyle 0.259\\genfrac{}{}{-.4pt}{}{+0.070}{-0.134}$ & $0.203$ & $\\displaystyle 1.269\\genfrac{}{}{-.4pt}{}{+0.270}{-0.268}$ & 0.539 \\\\ \n",
      "\\sehwagrobustID & $\\displaystyle 0.141\\genfrac{}{}{-.4pt}{}{+0.105}{-0.119}$ & $0.224$ & $\\displaystyle 0.877\\genfrac{}{}{-.4pt}{}{+0.349}{-0.300}$ & 0.649 & \\engstromID & $\\displaystyle 0.094\\genfrac{}{}{-.4pt}{}{+0.125}{-0.039}$ & $0.164$ & $\\displaystyle 0.618\\genfrac{}{}{-.4pt}{}{+0.460}{-0.361}$ & 0.821 \\\\ \n",
      "\\sehwagrobustIDdue & $\\displaystyle 0.108\\genfrac{}{}{-.4pt}{}{+0.086}{-0.095}$ & $0.181$ & $\\displaystyle 0.645\\genfrac{}{}{-.4pt}{}{+0.321}{-0.273}$ & 0.594 & \\cuidecoupledID & $\\displaystyle 0.321\\genfrac{}{}{-.4pt}{}{+0.071}{-0.077}$ & $0.148$ & $\\displaystyle 1.355\\genfrac{}{}{-.4pt}{}{+0.195}{-0.151}$ & 0.347 \\\\ \n",
      "\\gowalimprovingID & $\\displaystyle 0.096\\genfrac{}{}{-.4pt}{}{+0.091}{-0.076}$ & $0.167$ & $\\displaystyle 0.621\\genfrac{}{}{-.4pt}{}{+0.340}{-0.274}$ & 0.614 & \\wangbetterID & $\\displaystyle 0.294\\genfrac{}{}{-.4pt}{}{+0.072}{-0.081}$ & $0.153$ & $\\displaystyle 1.262\\genfrac{}{}{-.4pt}{}{+0.218}{-0.162}$ & 0.380 \\\\ \n",
      "\\xuexploringID & $\\displaystyle 0.147\\genfrac{}{}{-.4pt}{}{+0.182}{-0.107}$ & $0.289$ & $\\displaystyle 0.888\\genfrac{}{}{-.4pt}{}{+0.537}{-0.382}$ & 0.920 & \\gowalimprovingIDdue & $\\displaystyle 0.092\\genfrac{}{}{-.4pt}{}{+0.080}{-0.078}$ & $0.159$ & $\\displaystyle 0.562\\genfrac{}{}{-.4pt}{}{+0.310}{-0.245}$ & 0.555 \\\\ \n",
      "\\kangstableID & $\\displaystyle 0.012\\genfrac{}{}{-.4pt}{}{+-0.001}{--0.039}$ & $-0.040$ & $\\displaystyle 0.179\\genfrac{}{}{-.4pt}{}{+0.052}{-0.097}$ & 0.149 & \\pangrobustnessID & $\\displaystyle 0.197\\genfrac{}{}{-.4pt}{}{+0.066}{-0.095}$ & $0.161$ & $\\displaystyle 0.957\\genfrac{}{}{-.4pt}{}{+0.264}{-0.206}$ & 0.470 \\\\ \n",
      "\\rebuffifixingID & $\\displaystyle 0.193\\genfrac{}{}{-.4pt}{}{+0.105}{-0.097}$ & $0.202$ & $\\displaystyle 0.968\\genfrac{}{}{-.4pt}{}{+0.323}{-0.237}$ & 0.560 & \\wangbetterIDdue & $\\displaystyle 0.273\\genfrac{}{}{-.4pt}{}{+0.075}{-0.076}$ & $0.151$ & $\\displaystyle 1.192\\genfrac{}{}{-.4pt}{}{+0.218}{-0.156}$ & 0.374 \\\\ \n",
      "\\pengrobustID & $\\displaystyle 0.269\\genfrac{}{}{-.4pt}{}{+0.073}{-0.075}$ & $0.148$ & $\\displaystyle 1.181\\genfrac{}{}{-.4pt}{}{+0.215}{-0.152}$ & 0.368 & \n",
      "\\end{tabular}}\n",
      "\\caption{}\n",
      "\\label{}\n",
      "\\end{table}\n",
      "\\egroup\n",
      "\n"
     ]
    }
   ],
   "execution_count": 73
  },
  {
   "metadata": {
    "ExecuteTime": {
     "end_time": "2024-05-22T13:31:34.102820Z",
     "start_time": "2024-05-22T13:31:34.098819Z"
    }
   },
   "cell_type": "code",
   "source": "",
   "id": "78e187ae20d6022c",
   "outputs": [],
   "execution_count": 73
  },
  {
   "metadata": {
    "ExecuteTime": {
     "end_time": "2024-05-22T13:31:34.196005Z",
     "start_time": "2024-05-22T13:31:34.192513Z"
    }
   },
   "cell_type": "code",
   "source": "",
   "id": "7c1ca398c0aa06e2",
   "outputs": [],
   "execution_count": 73
  },
  {
   "metadata": {
    "ExecuteTime": {
     "end_time": "2024-05-22T13:31:34.228276Z",
     "start_time": "2024-05-22T13:31:34.225051Z"
    }
   },
   "cell_type": "code",
   "source": "",
   "id": "71ff82beed4a370",
   "outputs": [],
   "execution_count": 73
  },
  {
   "metadata": {},
   "cell_type": "markdown",
   "source": "## Latex table type 2\n",
   "id": "b6fa717455697054"
  },
  {
   "metadata": {
    "ExecuteTime": {
     "end_time": "2024-05-22T13:44:44.287954Z",
     "start_time": "2024-05-22T13:44:44.273069Z"
    }
   },
   "cell_type": "code",
   "source": [
    "model_x_row = 8\n",
    "total_model = len(clean_ece.items())\n",
    "\n",
    "print(\"\"\"\\\\begin{table}[]\n",
    "\\\\resizebox{\\\\textwidth}{!}{%\n",
    "\\\\begin{tabular}{lllllllllll}\"\"\")\n",
    "\n",
    "tot_rows = total_model//model_x_row + 1 if total_model%model_x_row != 0 else 0\n",
    "\n",
    "\n",
    "for row in range(tot_rows):    \n",
    "    # intestazione\n",
    "    model_names = list(dict_to_model.values())\n",
    "    print(\"&  \", end=\" \")\n",
    "    for i in range(model_x_row):\n",
    "        idx = i+(row*model_x_row)\n",
    "        if idx >= total_model:\n",
    "            break\n",
    "        print(f\"& \\multicolumn{{1}}{{c}}{{{model_names[idx]}}}\", end=\" \")\n",
    "    print(f\"\\\\\\\\ \\cdashline{{3-{model_x_row+2}}}\")\n",
    "    \n",
    "    # UNDER ATK\n",
    "    under_ece_values = list(under_ece.values())\n",
    "    print(\"\\multicolumn{1}{c}{\\multirow{3}{*}{ECE}}  & Otk  \", end= \" \")\n",
    "    for i in range(model_x_row):\n",
    "        idx = i+(row*model_x_row)\n",
    "        if idx >= total_model:\n",
    "            break\n",
    "        print(f\"& {under_ece_values[idx]:.3f}\", end=\" \")\n",
    "    print(\"\\\\\\\\\")\n",
    "    \n",
    "    # CLEAN\n",
    "    clean_ece_values = list(clean_ece.values())\n",
    "    print(\"\\multicolumn{1}{c}{} & Clean  \", end= \" \")\n",
    "    for i in range(model_x_row):\n",
    "        idx = i+(row*model_x_row)\n",
    "        if idx >= total_model:\n",
    "            break\n",
    "        print(f\"& {clean_ece_values[idx]:.3f}\", end=\" \")\n",
    "    print(\"\\\\\\\\\")\n",
    "    \n",
    "    \n",
    "    # OVER\n",
    "    over_ece_values = list(over_ece.values())\n",
    "    print(\"\\multicolumn{1}{c}{} & Oatk  \", end= \" \")\n",
    "    for i in range(model_x_row):\n",
    "        idx = i+(row*model_x_row)\n",
    "        if idx >= total_model:\n",
    "            break\n",
    "        print(f\"& {over_ece_values[idx]:.3f}\", end=\" \")\n",
    "    \n",
    "    print(f\"\\\\\\\\ \\cline{{1-{model_x_row+2}}}\")\n",
    "    \n",
    "    \n",
    "    # ENTROPYYYYYYYYYYYYYYYYYYYYYYY\n",
    "    # UNDER ATK\n",
    "    under_entropy_values = list(under_entropy.values())\n",
    "    print(\"\\multicolumn{1}{c}{\\multirow{3}{*}{H(x)}}  & Otk  \", end= \" \")\n",
    "    for i in range(model_x_row):\n",
    "        idx = i+(row*model_x_row)\n",
    "        if idx >= total_model:\n",
    "            break\n",
    "        print(f\"& {under_entropy_values[idx]:.3f}\", end=\" \")\n",
    "    print(\"\\\\\\\\\")\n",
    "    \n",
    "    # CLEAN\n",
    "    clean_entropy_values = list(clean_entropy.values())\n",
    "    print(\"\\multicolumn{1}{c}{} & Clean  \", end= \" \")\n",
    "    for i in range(model_x_row):\n",
    "        idx = i+(row*model_x_row)\n",
    "        if idx >= total_model:\n",
    "            break\n",
    "        print(f\"& {clean_entropy_values[idx]:.3f}\", end=\" \")\n",
    "    print(\"\\\\\\\\\")\n",
    "    \n",
    "    \n",
    "    # OVER\n",
    "    over_entropy_values = list(over_entropy.values())\n",
    "    print(\"\\multicolumn{1}{c}{} & Oatk  \", end= \" \")\n",
    "    for i in range(model_x_row):\n",
    "        idx = i+(row*model_x_row)\n",
    "        if idx >= total_model:\n",
    "            break\n",
    "        print(f\"& {over_entropy_values[idx]:.3f}\", end=\" \")\n",
    "    \n",
    "    print(f\"\\\\\\\\ \\cline{{1-{model_x_row+2}}}\")\n",
    "    \n",
    "    \n",
    "\n",
    "print(\"\\end{tabular}}\\n\\end{table}\")"
   ],
   "id": "b7ee42957c1dbae",
   "outputs": [
    {
     "name": "stdout",
     "output_type": "stream",
     "text": [
      "\\begin{table}[]\n",
      "\\resizebox{\\textwidth}{!}{%\n",
      "\\begin{tabular}{lllllllllll}\n",
      "&   & \\multicolumn{1}{c}{\\addepallieffID} & \\multicolumn{1}{c}{\\addepallitowID} & \\multicolumn{1}{c}{\\sehwagrobustID} & \\multicolumn{1}{c}{\\engstromID} & \\multicolumn{1}{c}{\\sehwagrobustIDdue} & \\multicolumn{1}{c}{\\cuidecoupledID} & \\multicolumn{1}{c}{\\gowalimprovingID} & \\multicolumn{1}{c}{\\wangbetterID} \\\\ \\cdashline{3-10}\n",
      "\\multicolumn{1}{c}{\\multirow{3}{*}{ECE}}  & Otk   & 0.439 & 0.328 & 0.246 & 0.219 & 0.193 & 0.392 & 0.186 & 0.366 \\\\\n",
      "\\multicolumn{1}{c}{} & Clean   & 0.387 & 0.259 & 0.141 & 0.094 & 0.108 & 0.321 & 0.096 & 0.294 \\\\\n",
      "\\multicolumn{1}{c}{} & Oatk   & 0.293 & 0.125 & 0.022 & 0.055 & 0.012 & 0.244 & 0.020 & 0.213 \\\\ \\cline{1-10}\n",
      "\\multicolumn{1}{c}{\\multirow{3}{*}{H(x)}}  & Otk   & 1.805 & 1.539 & 1.226 & 1.078 & 0.966 & 1.550 & 0.961 & 1.480 \\\\\n",
      "\\multicolumn{1}{c}{} & Clean   & 1.625 & 1.269 & 0.877 & 0.618 & 0.645 & 1.355 & 0.621 & 1.262 \\\\\n",
      "\\multicolumn{1}{c}{} & Oatk   & 1.470 & 1.001 & 0.577 & 0.257 & 0.372 & 1.204 & 0.347 & 1.100 \\\\ \\cline{1-10}\n",
      "&   & \\multicolumn{1}{c}{\\xuexploringID} & \\multicolumn{1}{c}{\\gowalimprovingIDdue} & \\multicolumn{1}{c}{\\kangstableID} & \\multicolumn{1}{c}{\\pangrobustnessID} & \\multicolumn{1}{c}{\\rebuffifixingID} & \\multicolumn{1}{c}{\\wangbetterIDdue} & \\multicolumn{1}{c}{\\pengrobustID} \\\\ \\cdashline{3-10}\n",
      "\\multicolumn{1}{c}{\\multirow{3}{*}{ECE}}  & Otk   & 0.330 & 0.172 & 0.011 & 0.264 & 0.298 & 0.348 & 0.343 \\\\\n",
      "\\multicolumn{1}{c}{} & Clean   & 0.147 & 0.092 & 0.012 & 0.197 & 0.193 & 0.273 & 0.269 \\\\\n",
      "\\multicolumn{1}{c}{} & Oatk   & 0.040 & 0.013 & 0.051 & 0.103 & 0.096 & 0.197 & 0.194 \\\\ \\cline{1-10}\n",
      "\\multicolumn{1}{c}{\\multirow{3}{*}{H(x)}}  & Otk   & 1.425 & 0.872 & 0.231 & 1.221 & 1.291 & 1.410 & 1.396 \\\\\n",
      "\\multicolumn{1}{c}{} & Clean   & 0.888 & 0.562 & 0.179 & 0.957 & 0.968 & 1.192 & 1.181 \\\\\n",
      "\\multicolumn{1}{c}{} & Oatk   & 0.506 & 0.317 & 0.082 & 0.751 & 0.731 & 1.036 & 1.029 \\\\ \\cline{1-10}\n",
      "\\end{tabular}}\n",
      "\\end{table}\n"
     ]
    }
   ],
   "execution_count": 85
  },
  {
   "metadata": {
    "ExecuteTime": {
     "end_time": "2024-05-22T13:31:34.525927Z",
     "start_time": "2024-05-22T13:31:34.522508Z"
    }
   },
   "cell_type": "code",
   "source": "",
   "id": "8d249937ceacd052",
   "outputs": [],
   "execution_count": 75
  },
  {
   "metadata": {
    "ExecuteTime": {
     "end_time": "2024-05-22T13:31:34.579599Z",
     "start_time": "2024-05-22T13:31:34.576230Z"
    }
   },
   "cell_type": "code",
   "source": "",
   "id": "b4c58c1bdf10f724",
   "outputs": [],
   "execution_count": 75
  },
  {
   "metadata": {},
   "cell_type": "markdown",
   "source": "# Entropy",
   "id": "ffaea31d72f66394"
  },
  {
   "metadata": {
    "ExecuteTime": {
     "end_time": "2024-05-22T13:31:34.746959Z",
     "start_time": "2024-05-22T13:31:34.741769Z"
    }
   },
   "cell_type": "code",
   "source": "print(entropy_dict)",
   "id": "f9284e7e89efb736",
   "outputs": [
    {
     "name": "stdout",
     "output_type": "stream",
     "text": [
      "{'addepalli2022': {'clean': 1.6248085498809814, 'oatk': 1.4698271751403809, 'uatk': 1.805284857749939}, 'addepalli2022_towards': {'clean': 1.2685953378677368, 'oatk': 1.0006461143493652, 'uatk': 1.539366364479065}, 'sehwag2021': {'clean': 0.8774853944778442, 'oatk': 0.5769382119178772, 'uatk': 1.2257531881332397}, 'engstrom2019': {'clean': 0.6181110739707947, 'oatk': 0.25676676630973816, 'uatk': 1.0777428150177002}, 'sehwag2021Proxy_ResNest152': {'clean': 0.6446627974510193, 'oatk': 0.37193426489830017, 'uatk': 0.9663532972335815}, 'Cui2023Decoupled_WRN_28_10': {'clean': 1.3550007343292236, 'oatk': 1.203749656677246, 'uatk': 1.5503093004226685}, 'gowal2021Improving_28_10': {'clean': 0.6213864088058472, 'oatk': 0.34705400466918945, 'uatk': 0.9607109427452087}, 'Wang2023Better_WRN_28_10': {'clean': 1.261987328529358, 'oatk': 1.0996037721633911, 'uatk': 1.4796520471572876}, 'Xu2023Exploring_WRN_28_10': {'clean': 0.8879414200782776, 'oatk': 0.5057478547096252, 'uatk': 1.4252583980560303}, 'Gowal2021Improving_70_16_ddpm_100m': {'clean': 0.5624229907989502, 'oatk': 0.3173121511936188, 'uatk': 0.8723099231719971}, 'kang2021Stable': {'clean': 0.17936037480831146, 'oatk': 0.08186990022659302, 'uatk': 0.23128968477249146}, 'pang2022Robustness_WRN70_16': {'clean': 0.9574200510978699, 'oatk': 0.7508971691131592, 'uatk': 1.2205932140350342}, 'Rebuffi2021Fixing_70_16_cutmix_extra': {'clean': 0.9683903455734253, 'oatk': 0.7312226891517639, 'uatk': 1.2911176681518555}, 'Wang2023Better_WRN_70_16': {'clean': 1.192083716392517, 'oatk': 1.03639817237854, 'uatk': 1.410441517829895}, 'Peng2023Robust': {'clean': 1.1812986135482788, 'oatk': 1.0286763906478882, 'uatk': 1.3962664604187012}}\n"
     ]
    }
   ],
   "execution_count": 76
  },
  {
   "metadata": {
    "ExecuteTime": {
     "end_time": "2024-05-22T13:31:34.802071Z",
     "start_time": "2024-05-22T13:31:34.793084Z"
    }
   },
   "cell_type": "code",
   "source": [
    "for idx, val in entropy_dict.items():\n",
    "    print(dict_to_model[idx], end=\" \")\n",
    "    for idx, val in val.items():\n",
    "        print(f\"& {val:.3f}\", end=\" \")\n",
    "        \n",
    "    print(\"\\\\\\\\\")"
   ],
   "id": "4f68865ecf392fd5",
   "outputs": [
    {
     "name": "stdout",
     "output_type": "stream",
     "text": [
      "\\addepallieffID & 1.625 & 1.470 & 1.805 \\\\\n",
      "\\addepallitowID & 1.269 & 1.001 & 1.539 \\\\\n",
      "\\sehwagrobustID & 0.877 & 0.577 & 1.226 \\\\\n",
      "\\engstromID & 0.618 & 0.257 & 1.078 \\\\\n",
      "\\sehwagrobustIDdue & 0.645 & 0.372 & 0.966 \\\\\n",
      "\\cuidecoupledID & 1.355 & 1.204 & 1.550 \\\\\n",
      "\\gowalimprovingID & 0.621 & 0.347 & 0.961 \\\\\n",
      "\\wangbetterID & 1.262 & 1.100 & 1.480 \\\\\n",
      "\\xuexploringID & 0.888 & 0.506 & 1.425 \\\\\n",
      "\\gowalimprovingIDdue & 0.562 & 0.317 & 0.872 \\\\\n",
      "\\kangstableID & 0.179 & 0.082 & 0.231 \\\\\n",
      "\\pangrobustnessID & 0.957 & 0.751 & 1.221 \\\\\n",
      "\\rebuffifixingID & 0.968 & 0.731 & 1.291 \\\\\n",
      "\\wangbetterIDdue & 1.192 & 1.036 & 1.410 \\\\\n",
      "\\pengrobustID & 1.181 & 1.029 & 1.396 \\\\\n"
     ]
    }
   ],
   "execution_count": 77
  },
  {
   "metadata": {
    "ExecuteTime": {
     "end_time": "2024-05-22T13:31:34.926008Z",
     "start_time": "2024-05-22T13:31:34.921208Z"
    }
   },
   "cell_type": "code",
   "source": "",
   "id": "6ad967e16e6b3b3b",
   "outputs": [],
   "execution_count": 77
  },
  {
   "metadata": {},
   "cell_type": "markdown",
   "source": "# Latex graph grid",
   "id": "3ddcf199224b31f1"
  },
  {
   "metadata": {
    "ExecuteTime": {
     "end_time": "2024-05-22T13:31:35.009164Z",
     "start_time": "2024-05-22T13:31:34.998717Z"
    }
   },
   "cell_type": "code",
   "source": [
    "import glob\n",
    "\n",
    "plots_path = glob.glob(\"./figures/calibration_hist/cifar10/*\")\n",
    "\n",
    "cols = 3\n",
    "\n",
    "\n",
    "print(\"\\\\begin{tabular}{\"+\"l\"*cols+\"}\")\n",
    "for id, path in enumerate(plots_path):\n",
    "\n",
    "    print(f\"\\includegraphics[width={(1/cols - 0.01):.2f}\\\\linewidth]\"+\"{\"+path[2:]+\"}\", end = \" \")\n",
    "    \n",
    "    if id != 0 and (id+1) % cols == 0:\n",
    "        print(\"\\\\\\\\\")\n",
    "    else:\n",
    "        print(\" &\")\n",
    "\n",
    "print(\"\\end{tabular}\")"
   ],
   "id": "e46b60697e31b59b",
   "outputs": [
    {
     "name": "stdout",
     "output_type": "stream",
     "text": [
      "\\begin{tabular}{lll}\n",
      "\\includegraphics[width=0.32\\linewidth]{figures/calibration_hist/cifar10/calibration_curve_robust_cifar10_addepalli2022_towards.pdf}  &\n",
      "\\includegraphics[width=0.32\\linewidth]{figures/calibration_hist/cifar10/calibration_curve_robust_cifar10_sehwag2021Proxy_ResNest152.pdf}  &\n",
      "\\includegraphics[width=0.32\\linewidth]{figures/calibration_hist/cifar10/calibration_curve_robust_cifar10_sehwag2021.pdf} \\\\\n",
      "\\includegraphics[width=0.32\\linewidth]{figures/calibration_hist/cifar10/calibration_curve_robust_cifar10_Gowal2021Improving_70_16_ddpm_100m.pdf}  &\n",
      "\\includegraphics[width=0.32\\linewidth]{figures/calibration_hist/cifar10/calibration_curve_robust_cifar10_Wang2023Better_WRN_70_16.pdf}  &\n",
      "\\includegraphics[width=0.32\\linewidth]{figures/calibration_hist/cifar10/calibration_curve_robust_cifar10_Cui2023Decoupled_WRN_28_10.pdf} \\\\\n",
      "\\includegraphics[width=0.32\\linewidth]{figures/calibration_hist/cifar10/calibration_curve_robust_cifar10_addepalli2022.pdf}  &\n",
      "\\includegraphics[width=0.32\\linewidth]{figures/calibration_hist/cifar10/calibration_curve_robust_cifar10_Rebuffi2021Fixing_70_16_cutmix_extra.pdf}  &\n",
      "\\includegraphics[width=0.32\\linewidth]{figures/calibration_hist/cifar10/calibration_curve_robust_cifar10_engstrom2019.pdf} \\\\\n",
      "\\includegraphics[width=0.32\\linewidth]{figures/calibration_hist/cifar10/calibration_curve_robust_cifar10_gowal2021Improving_28_10.pdf}  &\n",
      "\\includegraphics[width=0.32\\linewidth]{figures/calibration_hist/cifar10/calibration_curve_robust_cifar10_pang2022Robustness_WRN70_16.pdf}  &\n",
      "\\includegraphics[width=0.32\\linewidth]{figures/calibration_hist/cifar10/calibration_curve_robust_cifar10_Wang2023Better_WRN_28_10.pdf} \\\\\n",
      "\\includegraphics[width=0.32\\linewidth]{figures/calibration_hist/cifar10/calibration_curve_robust_cifar10_Peng2023Robust.pdf}  &\n",
      "\\includegraphics[width=0.32\\linewidth]{figures/calibration_hist/cifar10/calibration_curve_robust_cifar10_kang2021Stable.pdf}  &\n",
      "\\includegraphics[width=0.32\\linewidth]{figures/calibration_hist/cifar10/calibration_curve_robust_cifar10_Xu2023Exploring_WRN_28_10.pdf} \\\\\n",
      "\\end{tabular}\n"
     ]
    }
   ],
   "execution_count": 78
  },
  {
   "metadata": {
    "ExecuteTime": {
     "end_time": "2024-05-22T13:31:35.176460Z",
     "start_time": "2024-05-22T13:31:35.172661Z"
    }
   },
   "cell_type": "code",
   "source": "",
   "id": "c2a36bf060ed24d1",
   "outputs": [],
   "execution_count": 78
  }
 ],
 "metadata": {
  "kernelspec": {
   "display_name": "Python 3",
   "language": "python",
   "name": "python3"
  },
  "language_info": {
   "codemirror_mode": {
    "name": "ipython",
    "version": 2
   },
   "file_extension": ".py",
   "mimetype": "text/x-python",
   "name": "python",
   "nbconvert_exporter": "python",
   "pygments_lexer": "ipython2",
   "version": "2.7.6"
  }
 },
 "nbformat": 4,
 "nbformat_minor": 5
}
