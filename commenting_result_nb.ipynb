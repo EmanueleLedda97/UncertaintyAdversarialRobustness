{
 "cells": [
  {
   "metadata": {},
   "cell_type": "markdown",
   "source": "# ECE analysis",
   "id": "d88f930be61e37fb"
  },
  {
   "cell_type": "code",
   "id": "initial_id",
   "metadata": {
    "collapsed": true,
    "ExecuteTime": {
     "end_time": "2024-08-02T13:10:39.856394Z",
     "start_time": "2024-08-02T13:10:35.478905Z"
    }
   },
   "source": [
    "import utils.utils as utils\n",
    "\n",
    "from utils.constants import CIFAR10_DICT_MODELS_TO_ID, IMAGENET_DICT_MODELS_TO_ID\n",
    "\n",
    "import numpy as np\n",
    "import plot_results as ps"
   ],
   "outputs": [],
   "execution_count": 1
  },
  {
   "metadata": {
    "ExecuteTime": {
     "end_time": "2024-08-02T13:10:39.865611Z",
     "start_time": "2024-08-02T13:10:39.860848Z"
    }
   },
   "cell_type": "code",
   "source": "",
   "id": "bd34c67376136534",
   "outputs": [],
   "execution_count": 1
  },
  {
   "metadata": {
    "ExecuteTime": {
     "end_time": "2024-08-02T13:10:39.873905Z",
     "start_time": "2024-08-02T13:10:39.867904Z"
    }
   },
   "cell_type": "code",
   "source": [
    "robustness_level = \"robust\"\n",
    "ds_name = \"imagenet\"\n",
    "\n",
    "ece_save_path = \"figures/calibration_hist/\"\n",
    "ece_dict_name = f\"calibration_curve_{robustness_level}_{ds_name}\"\n",
    "ece_dict = utils.my_load(f\"{ece_save_path}{ece_dict_name}.pkl\")"
   ],
   "id": "4b2828dc9df50adb",
   "outputs": [],
   "execution_count": 2
  },
  {
   "metadata": {
    "ExecuteTime": {
     "end_time": "2024-08-02T13:10:39.883654Z",
     "start_time": "2024-08-02T13:10:39.877934Z"
    }
   },
   "cell_type": "code",
   "source": [
    "entropy_save_path = \"figures/violin_plots/\"\n",
    "entropy_dict_name = f\"violinplots_{robustness_level}_{ds_name}\"\n",
    "entropy_dict = utils.my_load(f\"{entropy_save_path}{entropy_dict_name}.pkl\")"
   ],
   "id": "229d81293a7bfbb3",
   "outputs": [],
   "execution_count": 3
  },
  {
   "metadata": {
    "ExecuteTime": {
     "end_time": "2024-08-02T13:10:39.891261Z",
     "start_time": "2024-08-02T13:10:39.886315Z"
    }
   },
   "cell_type": "code",
   "source": "dict_to_model = CIFAR10_DICT_MODELS_TO_ID if ds_name == \"cifar10\" else IMAGENET_DICT_MODELS_TO_ID",
   "id": "4d08ea162e94d8a4",
   "outputs": [],
   "execution_count": 4
  },
  {
   "metadata": {
    "ExecuteTime": {
     "end_time": "2024-08-02T13:10:39.905167Z",
     "start_time": "2024-08-02T13:10:39.893774Z"
    }
   },
   "cell_type": "code",
   "source": "dict_to_model",
   "id": "9e9e3c1a206769fc",
   "outputs": [
    {
     "data": {
      "text/plain": [
       "{'engstrom2019imgnet': {'paper_id': '\\\\engstromimagenetID',\n",
       "  'rb_rank': '6',\n",
       "  'clean_acc': '62.56\\\\%',\n",
       "  'rob_acc': '29.22\\\\%'},\n",
       " 'salman2020R18': {'paper_id': '\\\\salmanID',\n",
       "  'rb_rank': '8',\n",
       "  'clean_acc': '52.92\\\\%',\n",
       "  'rob_acc': '25.32\\\\%'},\n",
       " 'salman2020R50': {'paper_id': '\\\\salmanIDdue',\n",
       "  'rb_rank': '5',\n",
       "  'clean_acc': '64.02\\\\%',\n",
       "  'rob_acc': '34.96\\\\%'},\n",
       " 'wong2020': {'paper_id': '\\\\wongfastID',\n",
       "  'rb_rank': '7',\n",
       "  'clean_acc': '55.62\\\\%',\n",
       "  'rob_acc': '26.24\\\\%'},\n",
       " 'Liu2023swinB': {'paper_id': '\\\\liuswinb',\n",
       "  'rb_rank': '3',\n",
       "  'clean_acc': '76.16\\\\%',\n",
       "  'rob_acc': '56.16\\\\%'},\n",
       " 'Liu2023swinL': {'paper_id': '\\\\liuswinl',\n",
       "  'rb_rank': '1',\n",
       "  'clean_acc': '78.92\\\\%',\n",
       "  'rob_acc': '59.56\\\\%'},\n",
       " 'Liu2023convNextB': {'paper_id': '\\\\liuconvnb',\n",
       "  'rb_rank': '4',\n",
       "  'clean_acc': '76.02\\\\%',\n",
       "  'rob_acc': '55.82\\\\%'},\n",
       " 'Liu2023convNextL': {'paper_id': '\\\\liuconvnl',\n",
       "  'rb_rank': '2',\n",
       "  'clean_acc': '78.02\\\\%',\n",
       "  'rob_acc': '58.48\\\\%'}}"
      ]
     },
     "execution_count": 5,
     "metadata": {},
     "output_type": "execute_result"
    }
   ],
   "execution_count": 5
  },
  {
   "metadata": {
    "ExecuteTime": {
     "end_time": "2024-08-02T13:10:39.911945Z",
     "start_time": "2024-08-02T13:10:39.907544Z"
    }
   },
   "cell_type": "code",
   "source": [
    "# print(\"ECE\")\n",
    "# for idx, val in ece_dict.items():\n",
    "#     print(CIFAR10_DICT_MODELS_TO_ID[idx], end=\" \")\n",
    "#     for idx, val in val.items():\n",
    "#         print(f\"& {val:.3f}\", end=\" \")\n",
    "#         \n",
    "#     print(\"\\\\\\\\\")"
   ],
   "id": "ddd508f026bfbb41",
   "outputs": [],
   "execution_count": 6
  },
  {
   "metadata": {
    "ExecuteTime": {
     "end_time": "2024-08-02T13:10:39.922499Z",
     "start_time": "2024-08-02T13:10:39.914762Z"
    }
   },
   "cell_type": "code",
   "source": [
    "atk_type = \"under_ece\"\n",
    "attack_ece = {k: v[atk_type] for k, v in ece_dict.items()}\n",
    "sort_attack = dict(sorted(attack_ece.items(), key=lambda item: item[1]))\n",
    "\n",
    "# print(atk_type)\n",
    "# counter = 0\n",
    "# for idx, item in sort_attack.items():\n",
    "#     print(f\"{idx} --> {item}\")\n",
    "#     counter += item\n",
    "#     \n",
    "# print(counter/len(sort_attack))"
   ],
   "id": "9f847a139b782ae7",
   "outputs": [],
   "execution_count": 7
  },
  {
   "metadata": {
    "ExecuteTime": {
     "end_time": "2024-08-02T13:10:39.932834Z",
     "start_time": "2024-08-02T13:10:39.925648Z"
    }
   },
   "cell_type": "code",
   "source": [
    "atk_type = \"over_ece\"\n",
    "attack_ece = {k: v[atk_type] for k, v in ece_dict.items()}\n",
    "sort_attack = dict(sorted(attack_ece.items(), key=lambda item: item[1]))\n",
    "\n",
    "# print(atk_type)\n",
    "# counter = 0\n",
    "# for idx, item in sort_attack.items():\n",
    "#     print(f\"{idx} --> {item}\")\n",
    "#     counter += item\n",
    "#     \n",
    "# print(counter/len(sort_attack))"
   ],
   "id": "2f56ee3f49728130",
   "outputs": [],
   "execution_count": 8
  },
  {
   "metadata": {
    "ExecuteTime": {
     "end_time": "2024-08-02T13:10:39.945957Z",
     "start_time": "2024-08-02T13:10:39.939179Z"
    }
   },
   "cell_type": "code",
   "source": [
    "# ECE MAX DIFFERENCE Uatk and Oatk\n",
    "difference_ece_dict = {k: abs(v[\"under_ece\"]-v[\"clean_ece\"]) + abs(v[\"clean_ece\"]-v[\"over_ece\"]) for k, v in ece_dict.items()}\n",
    "sort_difference = dict(sorted(difference_ece_dict.items(), key=lambda item: item[1]))\n",
    "\n",
    "# print(\"ECE delta\")\n",
    "# \n",
    "# for idx, item in sort_difference.items():\n",
    "#     print(f\"{idx} --> {item}\")"
   ],
   "id": "cb3fb6c203e0edaf",
   "outputs": [],
   "execution_count": 9
  },
  {
   "metadata": {},
   "cell_type": "markdown",
   "source": [
    "### ECE table all metrics (Clean - Over - Umder)\n",
    "\n",
    "Per formattare bene i numeri\n",
    "$\\displaystyle 0.222\\genfrac{}{}{-.4pt}{}{+0.052}{-0.095}$"
   ],
   "id": "3fdb0e5319a31e28"
  },
  {
   "metadata": {
    "ExecuteTime": {
     "end_time": "2024-08-02T13:10:39.953598Z",
     "start_time": "2024-08-02T13:10:39.948276Z"
    }
   },
   "cell_type": "code",
   "source": [
    "clean_ece = {k: v[\"clean_ece\"] for k, v in ece_dict.items()}\n",
    "under_ece = {k: v[\"under_ece\"] for k, v in ece_dict.items()}\n",
    "over_ece = {k: v[\"over_ece\"] for k, v in ece_dict.items()}"
   ],
   "id": "9798589531d3faf1",
   "outputs": [],
   "execution_count": 10
  },
  {
   "metadata": {
    "ExecuteTime": {
     "end_time": "2024-08-02T13:10:39.961183Z",
     "start_time": "2024-08-02T13:10:39.955622Z"
    }
   },
   "cell_type": "code",
   "source": [
    "clean_entropy = {k: v[\"clean\"] for k, v in entropy_dict.items()}\n",
    "under_entropy = {k: v[\"uatk\"] for k, v in entropy_dict.items()}\n",
    "over_entropy = {k: v[\"oatk\"] for k, v in entropy_dict.items()}"
   ],
   "id": "9102ec6343139988",
   "outputs": [],
   "execution_count": 11
  },
  {
   "metadata": {
    "ExecuteTime": {
     "end_time": "2024-08-02T13:10:39.968954Z",
     "start_time": "2024-08-02T13:10:39.963749Z"
    }
   },
   "cell_type": "code",
   "source": [
    "clean_area = {k: v[\"clean_area\"] for k, v in ece_dict.items()}\n",
    "under_area = {k: v[\"under_area\"] for k, v in ece_dict.items()}\n",
    "over_area = {k: v[\"over_area\"] for k, v in ece_dict.items()}"
   ],
   "id": "c1c8f926b64d5cec",
   "outputs": [],
   "execution_count": 12
  },
  {
   "metadata": {
    "ExecuteTime": {
     "end_time": "2024-08-02T13:10:39.975971Z",
     "start_time": "2024-08-02T13:10:39.971437Z"
    }
   },
   "cell_type": "code",
   "source": [
    "# Displacement\n",
    "# for idx, item in clean_ece.items():\n",
    "#     print(f\"{CIFAR10_DICT_MODELS_TO_ID[idx]} --> clean: {item:.3f} under: +{(under_ece[idx]-item):.3f} over: -{(item - over_ece[idx]):.3f}\")"
   ],
   "id": "51c18f0d1c76ec76",
   "outputs": [],
   "execution_count": 13
  },
  {
   "metadata": {
    "ExecuteTime": {
     "end_time": "2024-08-02T13:10:39.982920Z",
     "start_time": "2024-08-02T13:10:39.978470Z"
    }
   },
   "cell_type": "code",
   "source": [
    "# Upper - lower - Delta\n",
    "# for idx, item in clean_ece.items():\n",
    "#     print(f\"{CIFAR10_DICT_MODELS_TO_ID[idx]} --> clean: {item:.3f} under: {(under_ece[idx]):.3f} over: {(over_ece[idx]):.3f} diff: {(under_ece[idx] - over_ece[idx]):.3f}\")"
   ],
   "id": "5aabf60f2914ccf7",
   "outputs": [],
   "execution_count": 14
  },
  {
   "metadata": {},
   "cell_type": "markdown",
   "source": [
    "## Generate Latex table\n",
    "\n",
    "CONTROLLA SE STAI FACENDO CON ECE O NUOVA METRICA"
   ],
   "id": "b6fa717455697054"
  },
  {
   "metadata": {
    "ExecuteTime": {
     "end_time": "2024-08-02T13:14:47.972753Z",
     "start_time": "2024-08-02T13:14:47.965417Z"
    }
   },
   "cell_type": "code",
   "source": [
    "model_names = [dict_to_model[mod_name][\"paper_id\"] for mod_name in dict_to_model.keys()]\n",
    "model_names"
   ],
   "id": "1bd21fa697f831f0",
   "outputs": [
    {
     "data": {
      "text/plain": [
       "['\\\\engstromimagenetID',\n",
       " '\\\\salmanID',\n",
       " '\\\\salmanIDdue',\n",
       " '\\\\wongfastID',\n",
       " '\\\\liuswinb',\n",
       " '\\\\liuswinl',\n",
       " '\\\\liuconvnb',\n",
       " '\\\\liuconvnl']"
      ]
     },
     "execution_count": 38,
     "metadata": {},
     "output_type": "execute_result"
    }
   ],
   "execution_count": 38
  },
  {
   "metadata": {
    "ExecuteTime": {
     "end_time": "2024-08-02T13:15:09.610698Z",
     "start_time": "2024-08-02T13:15:09.586770Z"
    }
   },
   "cell_type": "code",
   "source": [
    "model_x_row = 8\n",
    "total_model = len(clean_ece.items())\n",
    "\n",
    "tot_rows = total_model//model_x_row + 1 if total_model%model_x_row != 0 else 1\n",
    "\n",
    "utk_ece_diff_list=[]\n",
    "otk_ece_diff_list=[]\n",
    "\n",
    "utk_entroypy_diff_list=[]\n",
    "otk_entroypy_diff_list=[]\n",
    "\n",
    "model_names = [dict_to_model[mod_name][\"paper_id\"] for mod_name in dict_to_model.keys()]\n",
    "\n",
    "\n",
    "model_ids = list(dict_to_model.keys())\n",
    "model_ids = [f\"C{i+1}\" if ds_name == \"cifar10\" else f\"I{i+1}\" for i in range(len(dict_to_model.keys()))]\n",
    "\n",
    "\n",
    "print(\"\\\\begin{table}[]\")\n",
    "for row in range(tot_rows):    \n",
    "    # intestazione\n",
    "    print(\"\\\\resizebox{\\\\textwidth}{!}{\\n\\\\begin{tabular}{lllllllllll}\")\n",
    "    print(\"&  \", end=\" \")\n",
    "    \n",
    "    for i in range(model_x_row):\n",
    "        idx = i+(row*model_x_row)\n",
    "        if idx >= total_model:\n",
    "            break\n",
    "        print(f\"& \\multicolumn{{1}}{{c}}{{{model_names[idx]}}}\", end=\" \")\n",
    "    print(f\"\\\\\\\\ \\cline{{3-{model_x_row+2}}}\")\n",
    "    \n",
    "    \n",
    "    # --------------------------------- FAI ATTENZIONE QUA ------------------------------------\n",
    "    \n",
    "    # clean_ece_values = list(clean_ece.values())\n",
    "    # under_ece_values = list(under_ece.values())\n",
    "    # over_ece_values = list(over_ece.values())\n",
    "\n",
    "    clean_ece_values = [-x for x in list(clean_area.values())]\n",
    "    under_ece_values = [-x for x in list(under_area.values())]\n",
    "    over_ece_values = [-x for x in list(over_area.values())]\n",
    "\n",
    "    # --------------------------------- FAI ATTENZIONE QUA ------------------------------------\n",
    "\n",
    "\n",
    "    # UNDER ATK\n",
    "    print(\"\\multicolumn{1}{c}{\\multirow{3}{*}{CE}}  & Utk  \", end= \" \") # <----- changed from ECE\n",
    "    for i in range(model_x_row):\n",
    "        idx = i+(row*model_x_row)\n",
    "        if idx >= total_model:\n",
    "            break\n",
    "        # print(f\"& {under_ece_values[idx]:.3f}\", end=\" \")\n",
    "        cell_value = round(utk_diff:=(under_ece_values[idx] - clean_ece_values[idx]), 3)\n",
    "        # print(f\"---{utk_diff}---\")\n",
    "        utk_ece_diff_list.append(utk_diff)\n",
    "        print(\"& \" + (\"$\\\\uparrow +\" if cell_value >=0 else \"$\\downarrow \") +str(cell_value) + \"$\", end=\" \")\n",
    "    print(\"\\\\\\\\\")\n",
    "    \n",
    "    # CLEAN\n",
    "    print(\"\\multicolumn{1}{c}{} & Clean  \", end= \" \")\n",
    "    for i in range(model_x_row):\n",
    "        idx = i+(row*model_x_row)\n",
    "        if idx >= total_model:\n",
    "            break\n",
    "        print(f\"& ${clean_ece_values[idx]:.3f}$\", end=\" \")\n",
    "    print(\"\\\\\\\\\")\n",
    "    \n",
    "    \n",
    "    # OVER\n",
    "    print(\"\\multicolumn{1}{c}{} & Oatk  \", end= \" \")\n",
    "    for i in range(model_x_row):\n",
    "        idx = i+(row*model_x_row)\n",
    "        if idx >= total_model:\n",
    "            break\n",
    "        #print(f\"& {over_ece_values[idx]:.3f}\", end=\" \")\n",
    "        cell_value = round(otk_diff:=(over_ece_values[idx] - clean_ece_values[idx]), 3)\n",
    "        otk_ece_diff_list.append(otk_diff)\n",
    "        print(\"& \" + (\"$\\\\uparrow +\" if cell_value >=0 else \"$\\downarrow \") + str(cell_value) +\"$\", end=\" \")\n",
    "    \n",
    "    print(f\"\\\\\\\\ \\cdashline{{1-{model_x_row+2}}}\")\n",
    "    \n",
    "    \n",
    "    # ENTROPYYYYYYYYYYYYYYYYYYYYYYY\n",
    "    under_entropy_values = list(under_entropy.values())\n",
    "    clean_entropy_values = list(clean_entropy.values())\n",
    "    over_entropy_values = list(over_entropy.values())\n",
    "\n",
    "    # UNDER ATK\n",
    "    print(\"\\multicolumn{1}{c}{\\multirow{3}{*}{H(x)}}  & Utk  \", end= \" \")\n",
    "    for i in range(model_x_row):\n",
    "        idx = i+(row*model_x_row)\n",
    "        if idx >= total_model:\n",
    "            break\n",
    "        #print(f\"& ${under_entropy_values[idx]:.3f}$\", end=\" \")\n",
    "        cell_value = round(utk_ent:=(under_entropy_values[idx] - clean_entropy_values[idx]), 3)\n",
    "        utk_entroypy_diff_list.append(utk_ent)\n",
    "        print(\"& \" + (\"$\\\\uparrow +\" if cell_value >=0 else \"$\\downarrow \") + str(cell_value) +\"$\", end=\" \")\n",
    "    print(\"\\\\\\\\\")\n",
    "    \n",
    "    # CLEAN\n",
    "    print(\"\\multicolumn{1}{c}{} & Clean  \", end= \" \")\n",
    "    for i in range(model_x_row):\n",
    "        idx = i+(row*model_x_row)\n",
    "        if idx >= total_model:\n",
    "            break\n",
    "        print(f\"& ${clean_entropy_values[idx]:.3f}$\", end=\" \")\n",
    "    print(\"\\\\\\\\\")\n",
    "    \n",
    "    \n",
    "    # OVER\n",
    "    print(\"\\multicolumn{1}{c}{} & Oatk  \", end= \" \")\n",
    "    for i in range(model_x_row):\n",
    "        idx = i+(row*model_x_row)\n",
    "        if idx >= total_model:\n",
    "            break\n",
    "        #print(f\"& ${over_entropy_values[idx]:.3f}$\", end=\" \")\n",
    "        cell_value = round(otk_ent:=(over_entropy_values[idx] - clean_entropy_values[idx]), 3)\n",
    "        otk_entroypy_diff_list.append(otk_ent)\n",
    "        print(\"& \" + (\"$\\\\uparrow +\" if cell_value >=0 else \"$\\downarrow \") + str(cell_value) +\"$\", end=\" \")\n",
    "    \n",
    "    #print(f\"\\\\\\\\ \\cline{{1-{model_x_row+2}}}\")\n",
    "    print(\"\\n\\end{tabular}}\\n\")\n",
    "    \n",
    "print(\"\\caption{INSERT CAPTION}\\n\"+f\"\\label{{{'tab:cifar' if ds_name=='cifar10' else 'tab:imagenet'}}}\\n\"+\"\\end{table}\")\n",
    "    \n",
    "    \n",
    "print(\"\\n\")"
   ],
   "id": "b7ee42957c1dbae",
   "outputs": [
    {
     "name": "stdout",
     "output_type": "stream",
     "text": [
      "\\begin{table}[]\n",
      "\\resizebox{\\textwidth}{!}{\n",
      "\\begin{tabular}{lllllllllll}\n",
      "&   & \\multicolumn{1}{c}{\\engstromimagenetID} & \\multicolumn{1}{c}{\\salmanID} & \\multicolumn{1}{c}{\\salmanIDdue} & \\multicolumn{1}{c}{\\wongfastID} & \\multicolumn{1}{c}{\\liuswinb} & \\multicolumn{1}{c}{\\liuswinl} & \\multicolumn{1}{c}{\\liuconvnb} & \\multicolumn{1}{c}{\\liuconvnl} \\\\ \\cline{3-10}\n",
      "\\multicolumn{1}{c}{\\multirow{3}{*}{CE}}  & Utk   & $\\uparrow +0.137$ & $\\uparrow +0.093$ & $\\uparrow +0.12$ & $\\uparrow +0.121$ & $\\uparrow +0.127$ & $\\uparrow +0.106$ & $\\uparrow +0.1$ & $\\uparrow +0.084$ \\\\\n",
      "\\multicolumn{1}{c}{} & Clean   & $0.058$ & $0.107$ & $0.076$ & $-0.009$ & $0.187$ & $0.163$ & $0.167$ & $0.157$ \\\\\n",
      "\\multicolumn{1}{c}{} & Oatk   & $\\downarrow -0.261$ & $\\downarrow -0.224$ & $\\downarrow -0.226$ & $\\downarrow -0.274$ & $\\downarrow -0.175$ & $\\downarrow -0.094$ & $\\downarrow -0.156$ & $\\downarrow -0.135$ \\\\ \\cdashline{1-10}\n",
      "\\multicolumn{1}{c}{\\multirow{3}{*}{H(x)}}  & Utk   & $\\uparrow +1.196$ & $\\uparrow +0.896$ & $\\uparrow +1.0$ & $\\uparrow +0.988$ & $\\uparrow +0.99$ & $\\uparrow +0.849$ & $\\uparrow +0.858$ & $\\uparrow +0.743$ \\\\\n",
      "\\multicolumn{1}{c}{} & Clean   & $2.130$ & $3.072$ & $2.216$ & $2.223$ & $2.938$ & $2.638$ & $2.710$ & $2.600$ \\\\\n",
      "\\multicolumn{1}{c}{} & Oatk   & $\\downarrow -1.076$ & $\\downarrow -0.955$ & $\\downarrow -0.928$ & $\\downarrow -1.045$ & $\\downarrow -0.943$ & $\\downarrow -0.948$ & $\\downarrow -0.755$ & $\\downarrow -0.605$ \n",
      "\\end{tabular}}\n",
      "\n",
      "\\caption{INSERT CAPTION}\n",
      "\\label{tab:imagenet}\n",
      "\\end{table}\n",
      "\n",
      "\n"
     ]
    }
   ],
   "execution_count": 39
  },
  {
   "metadata": {},
   "cell_type": "markdown",
   "source": [
    "# Metric considerations: GUARDA SE AREA (SECE) O ECE\n",
    "\n",
    "Ora stiamo lavorando con SECE"
   ],
   "id": "2fac72f31959388f"
  },
  {
   "metadata": {},
   "cell_type": "markdown",
   "source": "## Mean values",
   "id": "efedee8ff9e72d89"
  },
  {
   "metadata": {
    "ExecuteTime": {
     "end_time": "2024-08-02T13:10:40.026672Z",
     "start_time": "2024-08-02T13:10:40.018976Z"
    }
   },
   "cell_type": "code",
   "source": [
    "print(\"underconfidence:\", np.mean(under_ece_values), np.std(under_ece_values))\n",
    "print(\"clean:\", np.mean(clean_ece_values), np.std(clean_ece_values))\n",
    "print(\"overconfidence:\", np.mean(over_ece_values), np.std(over_ece_values))\n"
   ],
   "id": "d01f0e5423861ef5",
   "outputs": [
    {
     "name": "stdout",
     "output_type": "stream",
     "text": [
      "underconfidence: 0.2244405641981284 0.05824323507565784\n",
      "clean: 0.11326623724395177 0.06366380936954255\n",
      "overconfidence: -0.07990010932902804 0.11845842135245513\n"
     ]
    }
   ],
   "execution_count": 16
  },
  {
   "metadata": {
    "ExecuteTime": {
     "end_time": "2024-08-02T13:10:40.034589Z",
     "start_time": "2024-08-02T13:10:40.028349Z"
    }
   },
   "cell_type": "code",
   "source": [
    "# DIFF\n",
    "print(\"mean value diff\")\n",
    "print(\"under-clean: \",np.mean(under_ece_values)-np.mean(clean_ece_values))\n",
    "print(\"over-clean: \", np.mean(over_ece_values)-np.mean(clean_ece_values))"
   ],
   "id": "c2b9a5bc7d0547c9",
   "outputs": [
    {
     "name": "stdout",
     "output_type": "stream",
     "text": [
      "mean value diff\n",
      "under-clean:  0.11117432695417664\n",
      "over-clean:  -0.19316634657297982\n"
     ]
    }
   ],
   "execution_count": 17
  },
  {
   "metadata": {
    "ExecuteTime": {
     "end_time": "2024-08-02T13:10:40.040563Z",
     "start_time": "2024-08-02T13:10:40.036562Z"
    }
   },
   "cell_type": "code",
   "source": [
    "# for i in (np.array(under_ece_values)).argsort():\n",
    "#     print(model_names[i], model_ids[i], clean_ece_values[i])"
   ],
   "id": "92d0d06ea838f929",
   "outputs": [],
   "execution_count": 18
  },
  {
   "metadata": {},
   "cell_type": "markdown",
   "source": "## Models vs UNDERconfidence",
   "id": "dcc831616bec1ccb"
  },
  {
   "metadata": {
    "ExecuteTime": {
     "end_time": "2024-08-02T13:10:40.049784Z",
     "start_time": "2024-08-02T13:10:40.043276Z"
    }
   },
   "cell_type": "code",
   "source": [
    "under_clean_diff = np.array(under_ece_values)-np.array(clean_ece_values)\n",
    "\n",
    "for i in under_clean_diff.argsort():\n",
    "    print(model_names[i], model_ids[i], under_clean_diff[i])"
   ],
   "id": "b181b8ba1e7c0168",
   "outputs": [
    {
     "name": "stdout",
     "output_type": "stream",
     "text": [
      "{'paper_id': '\\\\liuconvnl', 'rb_rank': '2', 'clean_acc': '78.02\\\\%', 'rob_acc': '58.48\\\\%'} I8 0.08429830500343816\n",
      "{'paper_id': '\\\\salmanID', 'rb_rank': '8', 'clean_acc': '52.92\\\\%', 'rob_acc': '25.32\\\\%'} I2 0.09293979359511283\n",
      "{'paper_id': '\\\\liuconvnb', 'rb_rank': '4', 'clean_acc': '76.02\\\\%', 'rob_acc': '55.82\\\\%'} I7 0.10040161917731164\n",
      "{'paper_id': '\\\\liuswinl', 'rb_rank': '1', 'clean_acc': '78.92\\\\%', 'rob_acc': '59.56\\\\%'} I6 0.10637564423726872\n",
      "{'paper_id': '\\\\salmanIDdue', 'rb_rank': '5', 'clean_acc': '64.02\\\\%', 'rob_acc': '34.96\\\\%'} I3 0.11997267980221661\n",
      "{'paper_id': '\\\\wongfastID', 'rb_rank': '7', 'clean_acc': '55.62\\\\%', 'rob_acc': '26.24\\\\%'} I4 0.12148994592670352\n",
      "{'paper_id': '\\\\liuswinb', 'rb_rank': '3', 'clean_acc': '76.16\\\\%', 'rob_acc': '56.16\\\\%'} I5 0.12676749706082044\n",
      "{'paper_id': '\\\\engstromimagenetID', 'rb_rank': '6', 'clean_acc': '62.56\\\\%', 'rob_acc': '29.22\\\\%'} I1 0.13714913083054128\n"
     ]
    }
   ],
   "execution_count": 19
  },
  {
   "metadata": {},
   "cell_type": "markdown",
   "source": "## Models vs OVERconfidence",
   "id": "cf277253c04534aa"
  },
  {
   "metadata": {
    "ExecuteTime": {
     "end_time": "2024-08-02T13:10:40.059253Z",
     "start_time": "2024-08-02T13:10:40.052236Z"
    }
   },
   "cell_type": "code",
   "source": [
    "over_clean_diff = np.array(over_ece_values)-np.array(clean_ece_values)\n",
    "\n",
    "for i in over_clean_diff.argsort()[::-1]:\n",
    "    print(model_names[i], model_ids[i], over_clean_diff[i])"
   ],
   "id": "3d09d4aa7bc2ad34",
   "outputs": [
    {
     "name": "stdout",
     "output_type": "stream",
     "text": [
      "{'paper_id': '\\\\liuswinl', 'rb_rank': '1', 'clean_acc': '78.92\\\\%', 'rob_acc': '59.56\\\\%'} I6 -0.09365021394519134\n",
      "{'paper_id': '\\\\liuconvnl', 'rb_rank': '2', 'clean_acc': '78.02\\\\%', 'rob_acc': '58.48\\\\%'} I8 -0.1354339391589165\n",
      "{'paper_id': '\\\\liuconvnb', 'rb_rank': '4', 'clean_acc': '76.02\\\\%', 'rob_acc': '55.82\\\\%'} I7 -0.15641427890118212\n",
      "{'paper_id': '\\\\liuswinb', 'rb_rank': '3', 'clean_acc': '76.16\\\\%', 'rob_acc': '56.16\\\\%'} I5 -0.17526793891377745\n",
      "{'paper_id': '\\\\salmanID', 'rb_rank': '8', 'clean_acc': '52.92\\\\%', 'rob_acc': '25.32\\\\%'} I2 -0.22371340323984623\n",
      "{'paper_id': '\\\\salmanIDdue', 'rb_rank': '5', 'clean_acc': '64.02\\\\%', 'rob_acc': '34.96\\\\%'} I3 -0.22620382634690034\n",
      "{'paper_id': '\\\\engstromimagenetID', 'rb_rank': '6', 'clean_acc': '62.56\\\\%', 'rob_acc': '29.22\\\\%'} I1 -0.26088675627065816\n",
      "{'paper_id': '\\\\wongfastID', 'rb_rank': '7', 'clean_acc': '55.62\\\\%', 'rob_acc': '26.24\\\\%'} I4 -0.2737604158073664\n"
     ]
    }
   ],
   "execution_count": 20
  },
  {
   "metadata": {},
   "cell_type": "markdown",
   "source": "## OVER vs UNDER",
   "id": "9f0717634ba21f88"
  },
  {
   "metadata": {
    "ExecuteTime": {
     "end_time": "2024-08-02T13:10:40.068361Z",
     "start_time": "2024-08-02T13:10:40.061804Z"
    }
   },
   "cell_type": "code",
   "source": [
    "under_over_diff = np.array(under_ece_values)-np.array(over_ece_values)\n",
    "\n",
    "for i in under_over_diff.argsort():\n",
    "    print(model_names[i], model_ids[i], under_over_diff[i])"
   ],
   "id": "1673837d906e365",
   "outputs": [
    {
     "name": "stdout",
     "output_type": "stream",
     "text": [
      "{'paper_id': '\\\\liuswinl', 'rb_rank': '1', 'clean_acc': '78.92\\\\%', 'rob_acc': '59.56\\\\%'} I6 0.20002585818246005\n",
      "{'paper_id': '\\\\liuconvnl', 'rb_rank': '2', 'clean_acc': '78.02\\\\%', 'rob_acc': '58.48\\\\%'} I8 0.21973224416235465\n",
      "{'paper_id': '\\\\liuconvnb', 'rb_rank': '4', 'clean_acc': '76.02\\\\%', 'rob_acc': '55.82\\\\%'} I7 0.25681589807849375\n",
      "{'paper_id': '\\\\liuswinb', 'rb_rank': '3', 'clean_acc': '76.16\\\\%', 'rob_acc': '56.16\\\\%'} I5 0.3020354359745979\n",
      "{'paper_id': '\\\\salmanID', 'rb_rank': '8', 'clean_acc': '52.92\\\\%', 'rob_acc': '25.32\\\\%'} I2 0.31665319683495907\n",
      "{'paper_id': '\\\\salmanIDdue', 'rb_rank': '5', 'clean_acc': '64.02\\\\%', 'rob_acc': '34.96\\\\%'} I3 0.34617650614911694\n",
      "{'paper_id': '\\\\wongfastID', 'rb_rank': '7', 'clean_acc': '55.62\\\\%', 'rob_acc': '26.24\\\\%'} I4 0.3952503617340699\n",
      "{'paper_id': '\\\\engstromimagenetID', 'rb_rank': '6', 'clean_acc': '62.56\\\\%', 'rob_acc': '29.22\\\\%'} I1 0.39803588710119947\n"
     ]
    }
   ],
   "execution_count": 21
  },
  {
   "metadata": {},
   "cell_type": "markdown",
   "source": "## Final ranking",
   "id": "67d42c8cf4e8efd7"
  },
  {
   "metadata": {
    "ExecuteTime": {
     "end_time": "2024-08-02T13:10:40.076571Z",
     "start_time": "2024-08-02T13:10:40.070790Z"
    }
   },
   "cell_type": "code",
   "source": [
    "for i in np.array(under_clean_diff).argsort():\n",
    "    print(f\"{model_ids[i]} -- Usece: {under_clean_diff[i]:.3f} - Osece {over_clean_diff[i]:.3f} - SECE: {clean_ece_values[i]:.3f}\")"
   ],
   "id": "6a3642750980110a",
   "outputs": [
    {
     "name": "stdout",
     "output_type": "stream",
     "text": [
      "I8 -- Usece: 0.084 - Osece -0.135 - SECE: 0.157\n",
      "I2 -- Usece: 0.093 - Osece -0.224 - SECE: 0.107\n",
      "I7 -- Usece: 0.100 - Osece -0.156 - SECE: 0.167\n",
      "I6 -- Usece: 0.106 - Osece -0.094 - SECE: 0.163\n",
      "I3 -- Usece: 0.120 - Osece -0.226 - SECE: 0.076\n",
      "I4 -- Usece: 0.121 - Osece -0.274 - SECE: -0.009\n",
      "I5 -- Usece: 0.127 - Osece -0.175 - SECE: 0.187\n",
      "I1 -- Usece: 0.137 - Osece -0.261 - SECE: 0.058\n"
     ]
    }
   ],
   "execution_count": 22
  },
  {
   "metadata": {},
   "cell_type": "markdown",
   "source": "# Metrics consideration: SECE",
   "id": "92038d6beaf0bf29"
  },
  {
   "metadata": {
    "ExecuteTime": {
     "end_time": "2024-08-02T13:10:40.084386Z",
     "start_time": "2024-08-02T13:10:40.078783Z"
    }
   },
   "cell_type": "code",
   "source": [
    "clean_area = {k: v[\"clean_area\"] for k, v in ece_dict.items()}\n",
    "under_area = {k: v[\"under_area\"] for k, v in ece_dict.items()}\n",
    "over_area = {k: v[\"over_area\"] for k, v in ece_dict.items()}"
   ],
   "id": "215004ec4b1609c0",
   "outputs": [],
   "execution_count": 23
  },
  {
   "metadata": {
    "ExecuteTime": {
     "end_time": "2024-08-02T13:10:40.093200Z",
     "start_time": "2024-08-02T13:10:40.086574Z"
    }
   },
   "cell_type": "code",
   "source": [
    "# Show values\n",
    "for n, i in enumerate(under_area.keys()): # mettere meno, chiamiamo calibration error\n",
    "    print(f\"{n+1} : {-under_area[i]=:.3f}, {-clean_area[i]=:.3f}, {-over_area[i]=:.3f} --- {-(under_area[i]-clean_area[i]):.3f} // {-(over_area[i]-clean_area[i]):.3f}\")"
   ],
   "id": "55e294721f9070d6",
   "outputs": [
    {
     "name": "stdout",
     "output_type": "stream",
     "text": [
      "1 : -under_area[i]=0.195, -clean_area[i]=0.058, -over_area[i]=-0.203 --- 0.137 // -0.261\n",
      "2 : -under_area[i]=0.200, -clean_area[i]=0.107, -over_area[i]=-0.116 --- 0.093 // -0.224\n",
      "3 : -under_area[i]=0.196, -clean_area[i]=0.076, -over_area[i]=-0.150 --- 0.120 // -0.226\n",
      "4 : -under_area[i]=0.112, -clean_area[i]=-0.009, -over_area[i]=-0.283 --- 0.121 // -0.274\n",
      "5 : -under_area[i]=0.314, -clean_area[i]=0.187, -over_area[i]=0.012 --- 0.127 // -0.175\n",
      "6 : -under_area[i]=0.270, -clean_area[i]=0.163, -over_area[i]=0.070 --- 0.106 // -0.094\n",
      "7 : -under_area[i]=0.268, -clean_area[i]=0.167, -over_area[i]=0.011 --- 0.100 // -0.156\n",
      "8 : -under_area[i]=0.242, -clean_area[i]=0.157, -over_area[i]=0.022 --- 0.084 // -0.135\n"
     ]
    }
   ],
   "execution_count": 24
  },
  {
   "metadata": {
    "ExecuteTime": {
     "end_time": "2024-08-02T13:10:40.098054Z",
     "start_time": "2024-08-02T13:10:40.095171Z"
    }
   },
   "cell_type": "code",
   "source": "",
   "id": "c98d78a19bc09684",
   "outputs": [],
   "execution_count": 24
  },
  {
   "metadata": {},
   "cell_type": "markdown",
   "source": "# Metrics consideration: Entropy",
   "id": "55b51b40e5b087ec"
  },
  {
   "metadata": {
    "ExecuteTime": {
     "end_time": "2024-08-02T13:10:40.105887Z",
     "start_time": "2024-08-02T13:10:40.099666Z"
    }
   },
   "cell_type": "code",
   "source": [
    "print(\"Entropy values\")\n",
    "i=0\n",
    "for e1, e2, e3 in zip(under_entropy_values, clean_entropy_values, over_entropy_values):\n",
    "    print(f\"{model_ids[i]} - under: {e1:.3f} // clean: {e2:.3f} // over: {e3:.3f}\")\n",
    "    i+=1"
   ],
   "id": "d7a0b7f8cb29cf60",
   "outputs": [
    {
     "name": "stdout",
     "output_type": "stream",
     "text": [
      "Entropy values\n",
      "I1 - under: 3.326 // clean: 2.130 // over: 1.054\n",
      "I2 - under: 3.968 // clean: 3.072 // over: 2.118\n",
      "I3 - under: 3.216 // clean: 2.216 // over: 1.287\n",
      "I4 - under: 3.211 // clean: 2.223 // over: 1.178\n",
      "I5 - under: 3.929 // clean: 2.938 // over: 1.995\n",
      "I6 - under: 3.487 // clean: 2.638 // over: 1.690\n",
      "I7 - under: 3.568 // clean: 2.710 // over: 1.955\n",
      "I8 - under: 3.343 // clean: 2.600 // over: 1.995\n"
     ]
    }
   ],
   "execution_count": 25
  },
  {
   "metadata": {
    "ExecuteTime": {
     "end_time": "2024-08-02T13:10:40.116834Z",
     "start_time": "2024-08-02T13:10:40.111391Z"
    }
   },
   "cell_type": "code",
   "source": [
    "n_classes = 10 if ds_name == \"cifar10\" else 1000\n",
    "max_entropy = - np.log2(1/n_classes)\n",
    "print(\"max entropy:\",max_entropy)"
   ],
   "id": "783ec5aa72374d33",
   "outputs": [
    {
     "name": "stdout",
     "output_type": "stream",
     "text": [
      "max entropy: 9.965784284662087\n"
     ]
    }
   ],
   "execution_count": 26
  },
  {
   "metadata": {
    "ExecuteTime": {
     "end_time": "2024-08-02T13:10:40.125154Z",
     "start_time": "2024-08-02T13:10:40.118853Z"
    }
   },
   "cell_type": "code",
   "source": [
    "# MEAN ENTROPY\n",
    "print(\"mean under entropy:\",np.array(under_entropy_values).mean())\n",
    "print(\"mean clean entropy:\",np.array(clean_entropy_values).mean()) \n",
    "print(\"mean over entropy:\",np.array(over_entropy_values).mean()) # C: 0.7185762862364451 # I: 1.659049853682518"
   ],
   "id": "c08fa8ae621045e3",
   "outputs": [
    {
     "name": "stdout",
     "output_type": "stream",
     "text": [
      "mean under entropy: 3.5059031546115875\n",
      "mean clean entropy: 2.5658993422985077\n",
      "mean over entropy: 1.659049853682518\n"
     ]
    }
   ],
   "execution_count": 27
  },
  {
   "metadata": {
    "ExecuteTime": {
     "end_time": "2024-08-02T13:10:40.134814Z",
     "start_time": "2024-08-02T13:10:40.128183Z"
    }
   },
   "cell_type": "code",
   "source": [
    "# mean Entropy difference\n",
    "print(\"UNDER - CLEAN entropy:\",np.array(under_entropy_values).mean() - np.array(clean_entropy_values).mean())\n",
    "print(\"OVER - CLEAN entropy:\",np.array(over_entropy_values).mean() - np.array(clean_entropy_values).mean())\n"
   ],
   "id": "9789b847ee5ad988",
   "outputs": [
    {
     "name": "stdout",
     "output_type": "stream",
     "text": [
      "UNDER - CLEAN entropy: 0.9400038123130798\n",
      "OVER - CLEAN entropy: -0.9068494886159897\n"
     ]
    }
   ],
   "execution_count": 28
  },
  {
   "metadata": {
    "ExecuteTime": {
     "end_time": "2024-08-02T13:10:40.142664Z",
     "start_time": "2024-08-02T13:10:40.136895Z"
    }
   },
   "cell_type": "code",
   "source": [
    "# mean Entropy difference\n",
    "print(\"%%% UNDER - CLEAN entropy:\",(np.array(under_entropy_values).mean() - np.array(clean_entropy_values).mean())/ np.array(clean_entropy_values).mean())\n",
    "print(\"%%% OVER - CLEAN entropy:\",(np.array(over_entropy_values).mean() - np.array(clean_entropy_values).mean())/ np.array(clean_entropy_values).mean())"
   ],
   "id": "242f712bcc86ccb3",
   "outputs": [
    {
     "name": "stdout",
     "output_type": "stream",
     "text": [
      "%%% UNDER - CLEAN entropy: 0.36634477308491514\n",
      "%%% OVER - CLEAN entropy: -0.3534236412421552\n"
     ]
    }
   ],
   "execution_count": 29
  },
  {
   "metadata": {
    "ExecuteTime": {
     "end_time": "2024-08-02T13:10:40.152388Z",
     "start_time": "2024-08-02T13:10:40.145012Z"
    }
   },
   "cell_type": "code",
   "source": [
    "i=0\n",
    "under_sum = over_sum = 0\n",
    "\n",
    "print(\"Percentage displacement\")\n",
    "\n",
    "for e1, e2, e3 in zip(under_entropy_values, clean_entropy_values, over_entropy_values):\n",
    "    print(f\"{model_ids[i]} - under: {((e1 - e2) / e2) * 100:.3f} // over: {((e2 - e3) / e2) * 100:.3f}\")\n",
    "    under_sum+=((e1 - e2) / e2) * 100\n",
    "    over_sum+=((e2 - e3) / e2) * 100\n",
    "    i+=1\n",
    "    \n",
    "print(f\"\\navg_under: {under_sum / (i - 1):.3f} // over: {over_sum / (i - 1):.3f}\")"
   ],
   "id": "134bfa4d72745097",
   "outputs": [
    {
     "name": "stdout",
     "output_type": "stream",
     "text": [
      "Percentage displacement\n",
      "I1 - under: 56.132 // over: 50.525\n",
      "I2 - under: 29.147 // over: 31.067\n",
      "I3 - under: 45.139 // over: 41.892\n",
      "I4 - under: 44.464 // over: 46.994\n",
      "I5 - under: 33.701 // over: 32.108\n",
      "I6 - under: 32.188 // over: 35.944\n",
      "I7 - under: 31.665 // over: 27.849\n",
      "I8 - under: 28.570 // over: 23.264\n",
      "\n",
      "avg_under: 43.001 // over: 41.378\n"
     ]
    }
   ],
   "execution_count": 30
  },
  {
   "metadata": {
    "ExecuteTime": {
     "end_time": "2024-08-02T13:10:40.161837Z",
     "start_time": "2024-08-02T13:10:40.154543Z"
    }
   },
   "cell_type": "code",
   "source": [
    "i=0\n",
    "\n",
    "under_diff = []\n",
    "over_diff = []\n",
    "\n",
    "for e1, e2, e3 in zip(under_entropy_values, clean_entropy_values, over_entropy_values):\n",
    "    under_diff.append(e1 - e2)\n",
    "    over_diff.append(e2 - e3)\n",
    "    print(f\"{model_ids[i]} - under: {e1 - e2:.3f} // over: {e2 - e3:.3f}\")\n",
    "    i+=1\n",
    "    "
   ],
   "id": "3f805bb9ab37057c",
   "outputs": [
    {
     "name": "stdout",
     "output_type": "stream",
     "text": [
      "I1 - under: 1.196 // over: 1.076\n",
      "I2 - under: 0.896 // over: 0.955\n",
      "I3 - under: 1.000 // over: 0.928\n",
      "I4 - under: 0.988 // over: 1.045\n",
      "I5 - under: 0.990 // over: 0.943\n",
      "I6 - under: 0.849 // over: 0.948\n",
      "I7 - under: 0.858 // over: 0.755\n",
      "I8 - under: 0.743 // over: 0.605\n"
     ]
    }
   ],
   "execution_count": 31
  },
  {
   "metadata": {},
   "cell_type": "markdown",
   "source": "# Weughted Uncertainty Span",
   "id": "1ea00e2723ad9b0b"
  },
  {
   "metadata": {
    "ExecuteTime": {
     "end_time": "2024-08-02T13:10:40.172491Z",
     "start_time": "2024-08-02T13:10:40.164476Z"
    }
   },
   "cell_type": "code",
   "source": [
    "def entropy_score(delta_entropy, clean_entropy, n_classes):\n",
    "    max_entropy = - np.log2(1/n_classes)\n",
    "    return np.abs(delta_entropy - clean_entropy)/(max_entropy - clean_entropy)\n",
    "\n",
    "i=0\n",
    "\n",
    "under_wus = []\n",
    "over_wus = []\n",
    "\n",
    "print(\"Entropy score ragionato con Antonio\")\n",
    "\n",
    "for e1, e2, e3 in zip(under_entropy_values, clean_entropy_values, over_entropy_values):\n",
    "    under_wus.append(entropy_score(e1,e2,n_classes))\n",
    "    over_wus.append(entropy_score(e3,e2,n_classes))\n",
    "    print(f\"{model_ids[i]} - under: {entropy_score(e1,e2,n_classes):.3f} \"\n",
    "          f\"// over: {entropy_score(e3,e2,n_classes):.3f}\")\n",
    "    i+=1"
   ],
   "id": "ff2d5feacb0e0a27",
   "outputs": [
    {
     "name": "stdout",
     "output_type": "stream",
     "text": [
      "Entropy score ragionato con Antonio\n",
      "I1 - under: 0.153 // over: 0.137\n",
      "I2 - under: 0.130 // over: 0.138\n",
      "I3 - under: 0.129 // over: 0.120\n",
      "I4 - under: 0.128 // over: 0.135\n",
      "I5 - under: 0.141 // over: 0.134\n",
      "I6 - under: 0.116 // over: 0.129\n",
      "I7 - under: 0.118 // over: 0.104\n",
      "I8 - under: 0.101 // over: 0.082\n"
     ]
    }
   ],
   "execution_count": 32
  },
  {
   "metadata": {},
   "cell_type": "markdown",
   "source": "## WUS rank",
   "id": "20a8b536bbcdf382"
  },
  {
   "metadata": {
    "ExecuteTime": {
     "end_time": "2024-08-02T13:10:40.180364Z",
     "start_time": "2024-08-02T13:10:40.174360Z"
    }
   },
   "cell_type": "code",
   "source": [
    "uatk_arsort = np.array(under_wus).argsort()\n",
    "\n",
    "for i, rank in enumerate(uatk_arsort):\n",
    "    print(f\"{model_ids[rank]} -- {under_wus[rank]:.3f}\")"
   ],
   "id": "397a1ed830ebe028",
   "outputs": [
    {
     "name": "stdout",
     "output_type": "stream",
     "text": [
      "I8 -- 0.101\n",
      "I6 -- 0.116\n",
      "I7 -- 0.118\n",
      "I4 -- 0.128\n",
      "I3 -- 0.129\n",
      "I2 -- 0.130\n",
      "I5 -- 0.141\n",
      "I1 -- 0.153\n"
     ]
    }
   ],
   "execution_count": 33
  },
  {
   "metadata": {
    "ExecuteTime": {
     "end_time": "2024-08-02T13:10:40.188054Z",
     "start_time": "2024-08-02T13:10:40.182375Z"
    }
   },
   "cell_type": "code",
   "source": [
    "oatk_arsort = np.array(over_wus).argsort()\n",
    "\n",
    "for i, rank in enumerate(oatk_arsort):\n",
    "    print(f\"{model_ids[rank]} -- {i+1} -- {over_wus[rank]:.3f}\")"
   ],
   "id": "c402ec3aff18ca69",
   "outputs": [
    {
     "name": "stdout",
     "output_type": "stream",
     "text": [
      "I8 -- 1 -- 0.082\n",
      "I7 -- 2 -- 0.104\n",
      "I3 -- 3 -- 0.120\n",
      "I6 -- 4 -- 0.129\n",
      "I5 -- 5 -- 0.134\n",
      "I4 -- 6 -- 0.135\n",
      "I1 -- 7 -- 0.137\n",
      "I2 -- 8 -- 0.138\n"
     ]
    }
   ],
   "execution_count": 34
  },
  {
   "metadata": {},
   "cell_type": "markdown",
   "source": "# WUS CONSIDERATION",
   "id": "93906c5a94935f91"
  },
  {
   "metadata": {
    "ExecuteTime": {
     "end_time": "2024-08-02T13:10:40.196345Z",
     "start_time": "2024-08-02T13:10:40.190437Z"
    }
   },
   "cell_type": "code",
   "source": [
    "for i, rank in enumerate(uatk_arsort):\n",
    "    print(f\"{model_ids[rank]} -- Uwus: {under_wus[rank]:.3f} - Owus: {over_wus[rank]:.3f} - H(x): {clean_entropy_values[rank]:.3f} - Ugap: {under_wus[rank]+over_wus[rank]:.3f}\")"
   ],
   "id": "d76070e239842388",
   "outputs": [
    {
     "name": "stdout",
     "output_type": "stream",
     "text": [
      "I8 -- Uwus: 0.101 - Owus: 0.082 - H(x): 2.600 - Ugap: 0.183\n",
      "I6 -- Uwus: 0.116 - Owus: 0.129 - H(x): 2.638 - Ugap: 0.245\n",
      "I7 -- Uwus: 0.118 - Owus: 0.104 - H(x): 2.710 - Ugap: 0.222\n",
      "I4 -- Uwus: 0.128 - Owus: 0.135 - H(x): 2.223 - Ugap: 0.263\n",
      "I3 -- Uwus: 0.129 - Owus: 0.120 - H(x): 2.216 - Ugap: 0.249\n",
      "I2 -- Uwus: 0.130 - Owus: 0.138 - H(x): 3.072 - Ugap: 0.268\n",
      "I5 -- Uwus: 0.141 - Owus: 0.134 - H(x): 2.938 - Ugap: 0.275\n",
      "I1 -- Uwus: 0.153 - Owus: 0.137 - H(x): 2.130 - Ugap: 0.290\n"
     ]
    }
   ],
   "execution_count": 35
  },
  {
   "metadata": {},
   "cell_type": "markdown",
   "source": "# Manual fix of EXCEL rank table",
   "id": "3c36e12be4d0923"
  },
  {
   "metadata": {
    "ExecuteTime": {
     "end_time": "2024-08-02T13:10:40.221022Z",
     "start_time": "2024-08-02T13:10:40.198968Z"
    }
   },
   "cell_type": "code",
   "source": [
    "\\begin{table}[]\n",
    "\\resizebox{\\textwidth}{!}{%\n",
    "\\begin{tabular}{llcllclclll}\n",
    "Robustbench ID & ID  & \\multicolumn{1}{l}{RB ranking} & Clean acc & Rob acc & \\multicolumn{1}{l}{Uatk rank} & Uatk\\_value & \\multicolumn{1}{l}{Oatk rank} & Oatk\\_value & \\multicolumn{1}{c}{} & \\multicolumn{1}{c}{} \\\\\n",
    "\\cline{1-9}\n",
    "Peng2023Robust & C15 & $1$ & $93.27\\%$  & $71.07\\%$ & $3$ & $0.100$ & $2$ & $-0.071$ \\\\\n",
    "Wang2023Better_WRN-70-16 & C14 & $2$ & $93.25\\%$  & $70.69\\%$ & $4$ & $0.103$ & $3$ & $-0.073$ \\\\\n",
    "Cui2023Decoupled_WRN-28-10 & C6 & $3$ & $92.16\\%$ & $67.73\\%$ & $2$ & $0.099$ & $4$ & $-0.077$ \\\\\n",
    "Wang2023Better_WRN_28_10 & C8 & $4$ & $92.44\\%$ & $67.31\\%$ & $5$ & $0.106$ & $5$ & $-0.079$ \\\\\n",
    "Rebuffi2021Fixing_70_16_cutmix_extra & C13 & $5$ & $92.23\\%$  & $66.56\\%$ & $12$ & $0.137$ & $9$ & $-0.101$ \\\\\n",
    "Gowal2021Improving_70_16_ddpm_100m & C10 & $6$ & $88.74\\%$  & $66.10\\%$ & $8$ & $0.112$ & $7$ & $-0.089$ \\\\\n",
    "Kang2021Stable & C11 & $7$ & $93.73\\%$ & $64.20\\%$ & $1$ & $0.017$ & $1$ & $-0.031$ \\\\\n",
    "Xu2023Exploring_WRN_28_10 & C9 & $8$ & $93.69\\%$ & $63.89\\%$ & $15$ & $0.221$ & $15$ & $-0.157$ \\\\\n",
    "Gowal2021Improving_28_10_ddpm_100m & C7 & $9$ & $87.50\\%$ & $63.38\\%$ & $10$ & $0.126$ & $10$ & $-0.102$ \\\\\n",
    "Pang2022Robustness_WRN70_16 & C12 & $10$ & $89.01\\%$ & $63.35\\%$ & $7$ & $0.111$ & $6$ & $-0.087$ \\\\\n",
    "sehwag2021Proxy_ResNest152 & C5 & $11$ & $87.30\\%$ & $62.79\\%$ & $9$ & $0.120$ & $11$ & $-0.102$ \\\\\n",
    "Sehwag2021Proxy_R18 & C3 & $12$ & $84.59\\%$ & $55.54\\%$ & $13$ & $0.142$ & $12$ & $-0.123$ \\\\\n",
    "Addepalli2022Efficient_RN18 & C1 & $13$ & $85.71\\%$ & $52.48\\%$ & $6$ & $0.106$ & $8$ & $-0.091$ \\\\\n",
    "Addepalli2021Towards_RN18 & C2 & $14$ & $80.24\\%$ & $51.06\\%$ & $11$ & $0.132$ & $13$ & $-0.130$ \\\\\n",
    "Engstrom2019Robustness & C4 & $15$ & $87.03\\%$  & $49.25\\%$ & $14$ & $0.170$ & $14$ & $-0.134$ \\\\\n",
    "\\end{tabular}}\n",
    "\\caption{\\cifar sum up with attack delta and ranking by minimum delta}\n",
    "\\end{table}\n",
    "\n",
    "\\begin{table}[]\n",
    "\\resizebox{\\textwidth}{!}{\\%\n",
    "\\begin{tabular}{lllllllllll}\n",
    "Robustbench ID & ID & RB ranking  & Clean acc & Rob acc & Uatk rank   & Uatk\\_value & Oatk rank   & Oatk\\_value & \\multicolumn{1}{c}{} & \\multicolumn{1}{c}{} \\\\ \\cline{1-9}\n",
    "Liu2023SwinL & I6 & $1$ & $78.92\\%$  & $59.56\\%$ & $2$ & $0.116$ & $4$ & $-0.129$ \\\\\n",
    "Liu2023ConvNextL & I8 & $2$ & $78.02\\%$  & $58.48\\%$ & $1$ & $0.101$ & $1$ & $-0.082$ \\\\\n",
    "Liu2023swinB & I5 & $3$ & $76.16\\%$  & $56.16\\%$ & $7$ & $0.141$ & $5$ & $-0.134$ \\\\\n",
    "Liu2023ConvNextB & I7 & $4$ & $76.02\\%$  & $55.82\\%$ & $3$ & $0.118$ & $2$ & $-0.104$ \\\\\n",
    "Salman2020R50 & I3 & $5$ & $64.02\\%$  & $34.96\\%$ & $5$ & $0.129$ & $3$ & $-0.12$ \\\\\n",
    "Engstrom2019imgnet & I2 & $6$ & $62.56\\%$  & $29.22\\%$ & $8$ & $0.153$ & $7$ & $-0.137$ \\\\\n",
    "Wong2020 & I4 & $7$ & $55.62\\%$  & $26.24\\%$ & $4$ & $0.128$ & $6$ & $-0.135$ \\\\\n",
    "Salman2020R18 & I1 & $8$ & $52.92\\%$  & $25.32\\%$ & $6$ & $0.13$ & $8$ & $-0.138$ \\\\\n",
    "\\end{tabular}}\n",
    "\\caption{\\imagenet sum up with attack delta and ranking by minimum delta}\n",
    "\\end{table}\n"
   ],
   "id": "85fc27aa8aa02567",
   "outputs": [
    {
     "ename": "SyntaxError",
     "evalue": "unexpected character after line continuation character (2023530864.py, line 1)",
     "output_type": "error",
     "traceback": [
      "\u001B[0;36m  Cell \u001B[0;32mIn[36], line 1\u001B[0;36m\u001B[0m\n\u001B[0;31m    \\begin{table}[]\u001B[0m\n\u001B[0m     ^\u001B[0m\n\u001B[0;31mSyntaxError\u001B[0m\u001B[0;31m:\u001B[0m unexpected character after line continuation character\n"
     ]
    }
   ],
   "execution_count": 36
  }
 ],
 "metadata": {
  "kernelspec": {
   "display_name": "Python 3",
   "language": "python",
   "name": "python3"
  },
  "language_info": {
   "codemirror_mode": {
    "name": "ipython",
    "version": 2
   },
   "file_extension": ".py",
   "mimetype": "text/x-python",
   "name": "python",
   "nbconvert_exporter": "python",
   "pygments_lexer": "ipython2",
   "version": "2.7.6"
  }
 },
 "nbformat": 4,
 "nbformat_minor": 5
}
