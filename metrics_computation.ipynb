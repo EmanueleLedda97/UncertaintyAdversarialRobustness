{
 "cells": [
  {
   "metadata": {},
   "cell_type": "markdown",
   "source": [
    "# NOTE\n",
    "\n",
    "New file where the metrics are computed and the realtive leaderboard table is generated"
   ],
   "id": "ea4d15d9a105c7ca"
  },
  {
   "cell_type": "code",
   "id": "initial_id",
   "metadata": {
    "collapsed": true,
    "ExecuteTime": {
     "end_time": "2024-08-05T08:30:07.679367Z",
     "start_time": "2024-08-05T08:30:06.431522Z"
    }
   },
   "source": [
    "from plot_results import get_paths, get_results, fix_values\n",
    "from utils.constants import CIFAR10_DICT_MODELS_TO_ID, IMAGENET_DICT_MODELS_TO_ID, cifar10_model_dict, imagenet_model_dict\n",
    "\n",
    "\n",
    "import torch as pt\n",
    "\n",
    "import numpy as np"
   ],
   "outputs": [],
   "execution_count": 1
  },
  {
   "metadata": {
    "ExecuteTime": {
     "end_time": "2024-08-05T08:30:07.681612Z",
     "start_time": "2024-08-05T08:30:07.680352Z"
    }
   },
   "cell_type": "code",
   "source": "",
   "id": "d2afebf594615c0b",
   "outputs": [],
   "execution_count": 1
  },
  {
   "metadata": {
    "ExecuteTime": {
     "end_time": "2024-08-05T08:30:07.683241Z",
     "start_time": "2024-08-05T08:30:07.682079Z"
    }
   },
   "cell_type": "code",
   "source": "",
   "id": "9b92d684535a7649",
   "outputs": [],
   "execution_count": 1
  },
  {
   "metadata": {
    "ExecuteTime": {
     "end_time": "2024-08-05T08:30:09.075412Z",
     "start_time": "2024-08-05T08:30:07.683714Z"
    }
   },
   "cell_type": "code",
   "source": [
    "\n",
    "atk_type_and_name_list = ['O-atk/Stab', \"O-atk/AutoTarget\",  'U-atk/Shake']\n",
    "datasets = ['cifar10', \"imagenet\"]\n",
    "robusts = [True]\n",
    "\n",
    "dict_terms = {'semi_robust': 'robust',\n",
    "              'naive_robust': 'naive'}\n",
    "\n",
    "# PATHS STRUCTURE: 0-C10 stab, 1-IMG stab, 2-C10 AT, 3-IMG AT, 4-C10 shake, 5-IMG shake\n",
    "paths = get_paths(datasets, atk_type_and_name_list, robusts, verbose=False)\n",
    "\n",
    "# ------------------------ CALIBRATOIN CURVE\n",
    "for path_list in paths[:2]:\n",
    "    robustness_level = dict_terms[path_list[0].split('/')[2]]\n",
    "    ds_name = path_list[0].split('/')[3]\n",
    "    title = f\"calibration_curve_{robustness_level}_{ds_name}\"\n",
    "    \n"
   ],
   "id": "19664fa5f1a8fd82",
   "outputs": [],
   "execution_count": 2
  },
  {
   "metadata": {
    "ExecuteTime": {
     "end_time": "2024-08-05T08:30:09.078726Z",
     "start_time": "2024-08-05T08:30:09.076680Z"
    }
   },
   "cell_type": "code",
   "source": [
    "def compute_nud(clean_entropy, adv_entropy, nclass):\n",
    "    num=np.abs(adv_entropy - clean_entropy)\n",
    "    den = -np.log(1/nclass) - clean_entropy\n",
    "    nud = pt.mean(num/den)\n",
    "    \n",
    "    return nud.item()"
   ],
   "id": "edf8cd916d9e8aa1",
   "outputs": [],
   "execution_count": 3
  },
  {
   "metadata": {
    "ExecuteTime": {
     "end_time": "2024-08-05T08:30:09.087492Z",
     "start_time": "2024-08-05T08:30:09.079395Z"
    }
   },
   "cell_type": "code",
   "source": [
    "def uncertainty_span(over_conf, under_conf):\n",
    "    span =np.abs(over_conf-under_conf)\n",
    "    \n",
    "    return pt.mean(span).item(), pt.std(span).item()"
   ],
   "id": "224725bfc733010c",
   "outputs": [],
   "execution_count": 4
  },
  {
   "metadata": {
    "ExecuteTime": {
     "end_time": "2024-08-05T08:30:09.090590Z",
     "start_time": "2024-08-05T08:30:09.088357Z"
    }
   },
   "cell_type": "code",
   "source": [
    "def squared_uncertainty_span(over_conf, under_conf):\n",
    "    squared_unc_span = (over_conf-under_conf)**2\n",
    "    \n",
    "    return pt.mean(squared_unc_span).item(), pt.std(squared_unc_span).item()"
   ],
   "id": "3866a1da39d454a5",
   "outputs": [],
   "execution_count": 5
  },
  {
   "metadata": {
    "ExecuteTime": {
     "end_time": "2024-08-05T08:30:11.128574Z",
     "start_time": "2024-08-05T08:30:09.091583Z"
    }
   },
   "cell_type": "code",
   "source": [
    "cifar_gap_list=[]\n",
    "imagenet_gap_list =[]\n",
    "\n",
    "for path_list in paths[:2]:\n",
    "    robustness_level = dict_terms[path_list[0].split('/')[2]]\n",
    "    ds_name = path_list[0].split('/')[3]\n",
    "    title = f\"calibration_curve_{robustness_level}_{ds_name}\"\n",
    "    \n",
    "    for plot_i, path in enumerate(path_list):\n",
    "        path_splitted = path.split('/')\n",
    "        model_name = path_splitted[-3 if 'semi_robust' in path else -4]\n",
    "        \n",
    "        nclass = 10 if \"cifar10\" in path else 1000\n",
    "        \n",
    "        eps_to_adv_results_dict = get_results(*path_splitted)\n",
    "        clean_entropy = eps_to_adv_results_dict[0]['entropy_of_mean']\n",
    "        \n",
    "        over_adv_entropy = fix_values(path, 'entropy_of_mean', 'Stab')\n",
    "        over_nud = compute_nud(clean_entropy, over_adv_entropy, nclass)\n",
    "        \n",
    "        under_adv_entropy = fix_values(path, 'entropy_of_mean', 'Shake')\n",
    "        under_nud= compute_nud(clean_entropy, under_adv_entropy, nclass)\n",
    "        \n",
    "        # print(model_name)\n",
    "        # print(f\"{under_nud=}, {over_nud=}\")\n",
    "        \n",
    "        us_mean, us_std = uncertainty_span(over_adv_entropy, under_adv_entropy)\n",
    "        sus_mean, sus_std = squared_uncertainty_span(over_adv_entropy, under_adv_entropy)\n",
    "        \n",
    "        res_dict = {\"model_name\":model_name,\n",
    "                     \"under_nud\":under_nud,\n",
    "                     \"over_nud\":over_nud,\n",
    "                     \"nud_gap\":(under_nud+over_nud),\n",
    "                    \"us_mean\":us_mean,\n",
    "                    \"us_std\":us_std,\n",
    "                    \"sus_mean\":sus_mean,\n",
    "                    \"sus_std\":sus_std}\n",
    "        \n",
    "        if \"cifar10\" in path:\n",
    "            cifar_gap_list.append(res_dict)\n",
    "        else:\n",
    "            imagenet_gap_list.append(res_dict)\n",
    "\n",
    "        "
   ],
   "id": "f704dae706eb9597",
   "outputs": [],
   "execution_count": 6
  },
  {
   "metadata": {
    "ExecuteTime": {
     "end_time": "2024-08-05T08:30:11.131195Z",
     "start_time": "2024-08-05T08:30:11.129165Z"
    }
   },
   "cell_type": "code",
   "source": [
    "# Sorting by the 'age' key in each dictionary\n",
    "cifar_gap_list.sort(key=lambda x: x[\"us_mean\"])"
   ],
   "id": "af6a1a1e90de56e8",
   "outputs": [],
   "execution_count": 7
  },
  {
   "metadata": {
    "ExecuteTime": {
     "end_time": "2024-08-05T08:30:11.141601Z",
     "start_time": "2024-08-05T08:30:11.131683Z"
    }
   },
   "cell_type": "code",
   "source": [
    "imagenet_gap_list.sort(key=lambda x: x[\"us_mean\"])\n",
    "imagenet_gap_list"
   ],
   "id": "75c6118105241c3f",
   "outputs": [
    {
     "data": {
      "text/plain": [
       "[{'model_name': 'Liu2023convNextL',\n",
       "  'under_nud': 0.19850148260593414,\n",
       "  'over_nud': 0.19223099946975708,\n",
       "  'nud_gap': 0.3907324820756912,\n",
       "  'us_mean': 1.3476158380508423,\n",
       "  'us_std': 0.9361840486526489,\n",
       "  'sus_mean': 2.692399740219116,\n",
       "  'sus_std': 3.558372735977173},\n",
       " {'model_name': 'Liu2023convNextB',\n",
       "  'under_nud': 0.23352986574172974,\n",
       "  'over_nud': 0.25055432319641113,\n",
       "  'nud_gap': 0.48408418893814087,\n",
       "  'us_mean': 1.6126735210418701,\n",
       "  'us_std': 1.0197010040283203,\n",
       "  'sus_mean': 3.640376329421997,\n",
       "  'sus_std': 4.310660362243652},\n",
       " {'model_name': 'Liu2023swinL',\n",
       "  'under_nud': 0.22591754794120789,\n",
       "  'over_nud': 0.35966697335243225,\n",
       "  'nud_gap': 0.5855845212936401,\n",
       "  'us_mean': 1.7970839738845825,\n",
       "  'us_std': 1.3041759729385376,\n",
       "  'sus_mean': 4.930173873901367,\n",
       "  'sus_std': 6.074586868286133},\n",
       " {'model_name': 'salman2020R18',\n",
       "  'under_nud': 0.2614194452762604,\n",
       "  'over_nud': 0.3472945988178253,\n",
       "  'nud_gap': 0.6087140440940857,\n",
       "  'us_mean': 1.8500226736068726,\n",
       "  'us_std': 1.0701439380645752,\n",
       "  'sus_mean': 4.567648410797119,\n",
       "  'sus_std': 4.90962553024292},\n",
       " {'model_name': 'salman2020R50',\n",
       "  'under_nud': 0.24188029766082764,\n",
       "  'over_nud': 0.293611615896225,\n",
       "  'nud_gap': 0.5354919135570526,\n",
       "  'us_mean': 1.9282618761062622,\n",
       "  'us_std': 1.2739536762237549,\n",
       "  'sus_mean': 5.340948581695557,\n",
       "  'sus_std': 5.998432636260986},\n",
       " {'model_name': 'Liu2023swinB',\n",
       "  'under_nud': 0.2816561460494995,\n",
       "  'over_nud': 0.3405121862888336,\n",
       "  'nud_gap': 0.6221683323383331,\n",
       "  'us_mean': 1.933774471282959,\n",
       "  'us_std': 1.06203031539917,\n",
       "  'sus_mean': 4.867250919342041,\n",
       "  'sus_std': 5.0640716552734375},\n",
       " {'model_name': 'wong2020',\n",
       "  'under_nud': 0.2352011501789093,\n",
       "  'over_nud': 0.30773311853408813,\n",
       "  'nud_gap': 0.5429342687129974,\n",
       "  'us_mean': 2.033128499984741,\n",
       "  'us_std': 1.2433600425720215,\n",
       "  'sus_mean': 5.679361820220947,\n",
       "  'sus_std': 5.8617262840271},\n",
       " {'model_name': 'engstrom2019imgnet',\n",
       "  'under_nud': 0.282080739736557,\n",
       "  'over_nud': 0.3472306430339813,\n",
       "  'nud_gap': 0.6293113827705383,\n",
       "  'us_mean': 2.272265672683716,\n",
       "  'us_std': 1.477386474609375,\n",
       "  'sus_mean': 7.345588684082031,\n",
       "  'sus_std': 7.699957847595215}]"
      ]
     },
     "execution_count": 8,
     "metadata": {},
     "output_type": "execute_result"
    }
   ],
   "execution_count": 8
  },
  {
   "metadata": {},
   "cell_type": "markdown",
   "source": "# Print tables",
   "id": "f0867f9402c1db77"
  },
  {
   "metadata": {
    "ExecuteTime": {
     "end_time": "2024-08-05T08:30:58.052754Z",
     "start_time": "2024-08-05T08:30:58.050510Z"
    }
   },
   "cell_type": "code",
   "source": [
    "ds_name =\"imagenet\"\n",
    "\n",
    "gap_list_dict = cifar_gap_list if ds_name == \"cifar\" else imagenet_gap_list\n",
    "\n",
    "MODELS_DICT = CIFAR10_DICT_MODELS_TO_ID if ds_name == \"cifar\" else IMAGENET_DICT_MODELS_TO_ID\n",
    "\n",
    "rb_dict = cifar10_model_dict if ds_name == \"cifar\" else imagenet_model_dict\n",
    "\n",
    "inizio_tab = ('\\\\begin{table}[htb]\\n'\n",
    "f'\\caption{{\\\\{ds_name} Leaderboard for \\\\{ds_name}. Models are sorted by NUG rank. Alongside the NUD value, the relative attack rank is reported.}} \\n'\n",
    "'\\\\resizebox{\\\\textwidth}{!}{ \\n'\n",
    "'\\\\begin{tabular}{lllllllllll} \\n'\n",
    "'Robustbench ID& Model ID & Rob Acc & NUD samplewise & UnSpan mean & UnSpan std & SqrdUnSpan mean & SqrdUnSpan std & RB rank & NUD rank \\\\\\\\ \\\\hline'\n",
    ")\n",
    "\n",
    "fine_tab =('\\end{tabular} \\n'\n",
    "           '} \\n'\n",
    "f'\\label{{tab:comp-{ds_name}}} \\n'\n",
    "'\\end{table} \\n')"
   ],
   "id": "ef49a6505e208f7c",
   "outputs": [],
   "execution_count": 15
  },
  {
   "metadata": {
    "ExecuteTime": {
     "end_time": "2024-08-05T08:30:58.189067Z",
     "start_time": "2024-08-05T08:30:58.186711Z"
    }
   },
   "cell_type": "code",
   "source": "print(inizio_tab)",
   "id": "571799a0d81e7e8",
   "outputs": [
    {
     "name": "stdout",
     "output_type": "stream",
     "text": [
      "\\begin{table}[htb]\n",
      "\\caption{\\imagenet Leaderboard for \\imagenet. Models are sorted by NUG rank. Alongside the NUD value, the relative attack rank is reported.} \n",
      "\\resizebox{\\textwidth}{!}{ \n",
      "\\begin{tabular}{lllllllllll} \n",
      "Robustbench ID& Model ID & Rob Acc & NUD samplewise & UnSpan mean & UnSpan std & SqrdUnSpan mean & SqrdUnSpan std & RB rank & NUD rank \\\\ \\hline\n"
     ]
    }
   ],
   "execution_count": 16
  },
  {
   "metadata": {
    "ExecuteTime": {
     "end_time": "2024-08-05T08:30:58.372542Z",
     "start_time": "2024-08-05T08:30:58.368836Z"
    }
   },
   "cell_type": "code",
   "source": [
    "print(inizio_tab)\n",
    "\n",
    "idx = 1\n",
    "for model in gap_list_dict:\n",
    "    model_key = model[\"model_name\"]\n",
    "    model_name = rb_dict[model_key][\"name\"].replace(\"_\",\"\\\\_\")\n",
    "    row_entry=(f'{model_name} & '\n",
    "               f'{MODELS_DICT[model_key][\"paper_id\"]} {MODELS_DICT[model_key][\"paper_ref\"]} & '\n",
    "               #f'{MODELS_DICT[model_key][\"clean_acc\"]} & '\n",
    "               f'${MODELS_DICT[model_key][\"rob_acc\"]}$ & '\n",
    "               f'${model[\"nud_gap\"]:.3f}$ & '\n",
    "               f'${model[\"us_mean\"]:.3f}$ & '\n",
    "               f'${model[\"us_std\"]:.3f}$ & '\n",
    "               f'${model[\"sus_mean\"]:.3f}$ & '\n",
    "               f'${model[\"sus_std\"]:.3f}$ & '\n",
    "               f'${MODELS_DICT[model_key][\"rb_rank\"]}$ & '\n",
    "               f'${idx}$ \\\\\\\\'\n",
    "               )\n",
    "    \n",
    "    idx+=1\n",
    "    print(row_entry)\n",
    "    \n",
    "print(fine_tab)"
   ],
   "id": "13c7e4084fed225a",
   "outputs": [
    {
     "name": "stdout",
     "output_type": "stream",
     "text": [
      "\\begin{table}[htb]\n",
      "\\caption{\\imagenet Leaderboard for \\imagenet. Models are sorted by NUG rank. Alongside the NUD value, the relative attack rank is reported.} \n",
      "\\resizebox{\\textwidth}{!}{ \n",
      "\\begin{tabular}{lllllllllll} \n",
      "Robustbench ID& Model ID & Rob Acc & NUD samplewise & UnSpan mean & UnSpan std & SqrdUnSpan mean & SqrdUnSpan std & RB rank & NUD rank \\\\ \\hline\n",
      "Liu2023Comprehensive\\_ConvNeXt-L & \\liuconvnl \\liu & $58.48\\%$ & $0.391$ & $1.348$ & $0.936$ & $2.692$ & $3.558$ & $2$ & $1$ \\\\\n",
      "Liu2023Comprehensive\\_ConvNeXt-B & \\liuconvnb \\liu & $55.82\\%$ & $0.484$ & $1.613$ & $1.020$ & $3.640$ & $4.311$ & $4$ & $2$ \\\\\n",
      "Liu2023Comprehensive\\_Swin-L & \\liuswinl \\liu & $59.56\\%$ & $0.586$ & $1.797$ & $1.304$ & $4.930$ & $6.075$ & $1$ & $3$ \\\\\n",
      "Salman2020Do\\_R18 & \\salmanID \\salman & $25.32\\%$ & $0.609$ & $1.850$ & $1.070$ & $4.568$ & $4.910$ & $8$ & $4$ \\\\\n",
      "Salman2020Do\\_R50 & \\salmanIDdue \\salman & $34.96\\%$ & $0.535$ & $1.928$ & $1.274$ & $5.341$ & $5.998$ & $5$ & $5$ \\\\\n",
      "Liu2023Comprehensive\\_Swin-B & \\liuswinb \\liu & $56.16\\%$ & $0.622$ & $1.934$ & $1.062$ & $4.867$ & $5.064$ & $3$ & $6$ \\\\\n",
      "Wong2020Fast & \\wongfastID \\wongfast & $26.24\\%$ & $0.543$ & $2.033$ & $1.243$ & $5.679$ & $5.862$ & $7$ & $7$ \\\\\n",
      "Engstrom2019Robustness & \\engstromimagenetID \\engstromimagenet & $29.22\\%$ & $0.629$ & $2.272$ & $1.477$ & $7.346$ & $7.700$ & $6$ & $8$ \\\\\n",
      "\\end{tabular} \n",
      "} \n",
      "\\label{tab:comp-imagenet} \n",
      "\\end{table} \n",
      "\n"
     ]
    }
   ],
   "execution_count": 17
  },
  {
   "metadata": {
    "ExecuteTime": {
     "end_time": "2024-08-05T08:30:58.561596Z",
     "start_time": "2024-08-05T08:30:58.559971Z"
    }
   },
   "cell_type": "code",
   "source": "",
   "id": "f50a5d30b8eecd33",
   "outputs": [],
   "execution_count": 17
  },
  {
   "metadata": {
    "ExecuteTime": {
     "end_time": "2024-08-05T08:30:58.708266Z",
     "start_time": "2024-08-05T08:30:58.706375Z"
    }
   },
   "cell_type": "code",
   "source": "",
   "id": "abf3c59cce445c5e",
   "outputs": [],
   "execution_count": 17
  },
  {
   "metadata": {},
   "cell_type": "code",
   "outputs": [],
   "execution_count": null,
   "source": "",
   "id": "540cb103d0fa7fcc"
  }
 ],
 "metadata": {
  "kernelspec": {
   "display_name": "Python 3",
   "language": "python",
   "name": "python3"
  },
  "language_info": {
   "codemirror_mode": {
    "name": "ipython",
    "version": 2
   },
   "file_extension": ".py",
   "mimetype": "text/x-python",
   "name": "python",
   "nbconvert_exporter": "python",
   "pygments_lexer": "ipython2",
   "version": "2.7.6"
  }
 },
 "nbformat": 4,
 "nbformat_minor": 5
}
